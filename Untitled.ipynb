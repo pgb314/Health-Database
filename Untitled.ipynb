{
 "cells": [
  {
   "cell_type": "code",
   "execution_count": 1,
   "id": "9c5fff09",
   "metadata": {},
   "outputs": [],
   "source": [
    "import pandas as pd"
   ]
  },
  {
   "cell_type": "code",
   "execution_count": 19,
   "id": "078ed7ce",
   "metadata": {},
   "outputs": [],
   "source": [
    "df = pd.read_csv(r\"C:\\Users\\pabli\\Desktop\\Health-Database\\data\\thresh4_models\\Age-standardized suicide rates (per 100 000 population).csv\")"
   ]
  },
  {
   "cell_type": "code",
   "execution_count": 20,
   "id": "5e8c5c23",
   "metadata": {},
   "outputs": [
    {
     "data": {
      "text/html": [
       "<div>\n",
       "<style scoped>\n",
       "    .dataframe tbody tr th:only-of-type {\n",
       "        vertical-align: middle;\n",
       "    }\n",
       "\n",
       "    .dataframe tbody tr th {\n",
       "        vertical-align: top;\n",
       "    }\n",
       "\n",
       "    .dataframe thead th {\n",
       "        text-align: right;\n",
       "    }\n",
       "</style>\n",
       "<table border=\"1\" class=\"dataframe\">\n",
       "  <thead>\n",
       "    <tr style=\"text-align: right;\">\n",
       "      <th></th>\n",
       "      <th>per_capita-Interpersonal Violence</th>\n",
       "      <th>per_capita-HIV/AIDS</th>\n",
       "      <th>per_capita-Environmental Heat and Cold Exposure</th>\n",
       "      <th>per_capita-Road Injuries</th>\n",
       "      <th>Mortality rate attributed to unintentional poisoning (per 100 000 population)</th>\n",
       "    </tr>\n",
       "  </thead>\n",
       "  <tbody>\n",
       "    <tr>\n",
       "      <th>count</th>\n",
       "      <td>3.078000e+03</td>\n",
       "      <td>3.078000e+03</td>\n",
       "      <td>3.078000e+03</td>\n",
       "      <td>3.078000e+03</td>\n",
       "      <td>3.078000e+03</td>\n",
       "    </tr>\n",
       "    <tr>\n",
       "      <th>mean</th>\n",
       "      <td>1.846765e-17</td>\n",
       "      <td>-4.616912e-18</td>\n",
       "      <td>3.693529e-17</td>\n",
       "      <td>-1.200397e-16</td>\n",
       "      <td>-7.387059e-17</td>\n",
       "    </tr>\n",
       "    <tr>\n",
       "      <th>std</th>\n",
       "      <td>1.000162e+00</td>\n",
       "      <td>1.000162e+00</td>\n",
       "      <td>1.000162e+00</td>\n",
       "      <td>1.000162e+00</td>\n",
       "      <td>1.000162e+00</td>\n",
       "    </tr>\n",
       "    <tr>\n",
       "      <th>min</th>\n",
       "      <td>-6.943372e-01</td>\n",
       "      <td>-3.728676e-01</td>\n",
       "      <td>-4.543734e-01</td>\n",
       "      <td>-1.313104e+00</td>\n",
       "      <td>-8.261806e-01</td>\n",
       "    </tr>\n",
       "    <tr>\n",
       "      <th>25%</th>\n",
       "      <td>-5.811529e-01</td>\n",
       "      <td>-3.671867e-01</td>\n",
       "      <td>-4.068847e-01</td>\n",
       "      <td>-6.789309e-01</td>\n",
       "      <td>-6.536887e-01</td>\n",
       "    </tr>\n",
       "    <tr>\n",
       "      <th>50%</th>\n",
       "      <td>-3.510134e-01</td>\n",
       "      <td>-3.415918e-01</td>\n",
       "      <td>-2.925192e-01</td>\n",
       "      <td>-1.685890e-01</td>\n",
       "      <td>-4.323550e-01</td>\n",
       "    </tr>\n",
       "    <tr>\n",
       "      <th>75%</th>\n",
       "      <td>1.034824e-01</td>\n",
       "      <td>-1.767740e-01</td>\n",
       "      <td>-1.044736e-01</td>\n",
       "      <td>3.107881e-01</td>\n",
       "      <td>4.219992e-01</td>\n",
       "    </tr>\n",
       "    <tr>\n",
       "      <th>max</th>\n",
       "      <td>8.735809e+00</td>\n",
       "      <td>8.865972e+00</td>\n",
       "      <td>8.477147e+00</td>\n",
       "      <td>5.291202e+00</td>\n",
       "      <td>8.505289e+00</td>\n",
       "    </tr>\n",
       "  </tbody>\n",
       "</table>\n",
       "</div>"
      ],
      "text/plain": [
       "       per_capita-Interpersonal Violence  per_capita-HIV/AIDS  \\\n",
       "count                       3.078000e+03         3.078000e+03   \n",
       "mean                        1.846765e-17        -4.616912e-18   \n",
       "std                         1.000162e+00         1.000162e+00   \n",
       "min                        -6.943372e-01        -3.728676e-01   \n",
       "25%                        -5.811529e-01        -3.671867e-01   \n",
       "50%                        -3.510134e-01        -3.415918e-01   \n",
       "75%                         1.034824e-01        -1.767740e-01   \n",
       "max                         8.735809e+00         8.865972e+00   \n",
       "\n",
       "       per_capita-Environmental Heat and Cold Exposure  \\\n",
       "count                                     3.078000e+03   \n",
       "mean                                      3.693529e-17   \n",
       "std                                       1.000162e+00   \n",
       "min                                      -4.543734e-01   \n",
       "25%                                      -4.068847e-01   \n",
       "50%                                      -2.925192e-01   \n",
       "75%                                      -1.044736e-01   \n",
       "max                                       8.477147e+00   \n",
       "\n",
       "       per_capita-Road Injuries  \\\n",
       "count              3.078000e+03   \n",
       "mean              -1.200397e-16   \n",
       "std                1.000162e+00   \n",
       "min               -1.313104e+00   \n",
       "25%               -6.789309e-01   \n",
       "50%               -1.685890e-01   \n",
       "75%                3.107881e-01   \n",
       "max                5.291202e+00   \n",
       "\n",
       "       Mortality rate attributed to unintentional poisoning (per 100 000 population)  \n",
       "count                                       3.078000e+03                              \n",
       "mean                                       -7.387059e-17                              \n",
       "std                                         1.000162e+00                              \n",
       "min                                        -8.261806e-01                              \n",
       "25%                                        -6.536887e-01                              \n",
       "50%                                        -4.323550e-01                              \n",
       "75%                                         4.219992e-01                              \n",
       "max                                         8.505289e+00                              "
      ]
     },
     "execution_count": 20,
     "metadata": {},
     "output_type": "execute_result"
    }
   ],
   "source": [
    "df.describe()"
   ]
  },
  {
   "cell_type": "code",
   "execution_count": 8,
   "id": "c7b04389",
   "metadata": {},
   "outputs": [],
   "source": [
    "df1 = pd.read_csv(r\"C:\\Users\\pabli\\Desktop\\Health-Database\\data\\clean_full_data.csv\")"
   ]
  },
  {
   "cell_type": "code",
   "execution_count": 14,
   "id": "73c99d3c",
   "metadata": {},
   "outputs": [
    {
     "data": {
      "text/plain": [
       "Unnamed: 0                                                                      3575\n",
       "country                                                                     Zimbabwe\n",
       "country_code                                                                     ZWE\n",
       "year                                                                            2015\n",
       "Meningitis                                                                    1439.0\n",
       "                                                                              ...   \n",
       "Number of non-pregnant women (aged 15-49 years) with anaemia (thousands)       950.0\n",
       "Prevalence of anaemia in pregnant women (aged 15-49) (%)                        32.4\n",
       "Mean hemoglobin level of non-pregnant women (aged 15-49 years)                 127.0\n",
       "average_age                                                                   20.703\n",
       "num_nan                                                                           10\n",
       "Name: 3073, Length: 157, dtype: object"
      ]
     },
     "execution_count": 14,
     "metadata": {},
     "output_type": "execute_result"
    }
   ],
   "source": [
    "df1.iloc[3073,:]"
   ]
  },
  {
   "cell_type": "code",
   "execution_count": null,
   "id": "0fa731cd",
   "metadata": {},
   "outputs": [],
   "source": []
  }
 ],
 "metadata": {
  "kernelspec": {
   "display_name": "health",
   "language": "python",
   "name": "health"
  },
  "language_info": {
   "codemirror_mode": {
    "name": "ipython",
    "version": 3
   },
   "file_extension": ".py",
   "mimetype": "text/x-python",
   "name": "python",
   "nbconvert_exporter": "python",
   "pygments_lexer": "ipython3",
   "version": "3.9.12"
  }
 },
 "nbformat": 4,
 "nbformat_minor": 5
}
