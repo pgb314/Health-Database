{
 "cells": [
  {
   "cell_type": "code",
   "execution_count": 1,
   "id": "0891f30f",
   "metadata": {},
   "outputs": [],
   "source": [
    "import pandas as pd"
   ]
  },
  {
   "cell_type": "code",
   "execution_count": 23,
   "id": "a5409c41",
   "metadata": {},
   "outputs": [],
   "source": [
    "df = pd.read_csv(r\"C:\\Users\\pabli\\Desktop\\Health-Database\\data\\thresh4_models\\Prevalence of controlled hypertension among adults aged 30-79 years with hypertension, age-standardized.csv\")"
   ]
  },
  {
   "cell_type": "code",
   "execution_count": 24,
   "id": "1dab02b9",
   "metadata": {},
   "outputs": [
    {
     "data": {
      "text/html": [
       "<div>\n",
       "<style scoped>\n",
       "    .dataframe tbody tr th:only-of-type {\n",
       "        vertical-align: middle;\n",
       "    }\n",
       "\n",
       "    .dataframe tbody tr th {\n",
       "        vertical-align: top;\n",
       "    }\n",
       "\n",
       "    .dataframe thead th {\n",
       "        text-align: right;\n",
       "    }\n",
       "</style>\n",
       "<table border=\"1\" class=\"dataframe\">\n",
       "  <thead>\n",
       "    <tr style=\"text-align: right;\">\n",
       "      <th></th>\n",
       "      <th>Interpersonal Violence</th>\n",
       "      <th>Drug Use Disorders</th>\n",
       "      <th>gdp/percap</th>\n",
       "      <th>Domestic private health expenditure (PVT-D) per capita in US$</th>\n",
       "      <th>Deaths due to tuberculosis among HIV-negative people (per 100 000 population)</th>\n",
       "    </tr>\n",
       "  </thead>\n",
       "  <tbody>\n",
       "    <tr>\n",
       "      <th>count</th>\n",
       "      <td>3078.000000</td>\n",
       "      <td>3.078000e+03</td>\n",
       "      <td>3.078000e+03</td>\n",
       "      <td>3.078000e+03</td>\n",
       "      <td>3.078000e+03</td>\n",
       "    </tr>\n",
       "    <tr>\n",
       "      <th>mean</th>\n",
       "      <td>0.000000</td>\n",
       "      <td>3.693529e-17</td>\n",
       "      <td>1.846765e-17</td>\n",
       "      <td>3.231838e-17</td>\n",
       "      <td>2.770147e-17</td>\n",
       "    </tr>\n",
       "    <tr>\n",
       "      <th>std</th>\n",
       "      <td>1.000162</td>\n",
       "      <td>1.000162e+00</td>\n",
       "      <td>1.000162e+00</td>\n",
       "      <td>1.000162e+00</td>\n",
       "      <td>1.000162e+00</td>\n",
       "    </tr>\n",
       "    <tr>\n",
       "      <th>min</th>\n",
       "      <td>-0.337577</td>\n",
       "      <td>-1.742242e-01</td>\n",
       "      <td>-6.613558e-01</td>\n",
       "      <td>-4.895866e-01</td>\n",
       "      <td>-6.774466e-01</td>\n",
       "    </tr>\n",
       "    <tr>\n",
       "      <th>25%</th>\n",
       "      <td>-0.325982</td>\n",
       "      <td>-1.716393e-01</td>\n",
       "      <td>-5.983728e-01</td>\n",
       "      <td>-4.446030e-01</td>\n",
       "      <td>-6.284948e-01</td>\n",
       "    </tr>\n",
       "    <tr>\n",
       "      <th>50%</th>\n",
       "      <td>-0.287946</td>\n",
       "      <td>-1.615869e-01</td>\n",
       "      <td>-4.375267e-01</td>\n",
       "      <td>-3.353441e-01</td>\n",
       "      <td>-4.727392e-01</td>\n",
       "    </tr>\n",
       "    <tr>\n",
       "      <th>75%</th>\n",
       "      <td>-0.203465</td>\n",
       "      <td>-1.202286e-01</td>\n",
       "      <td>7.309557e-02</td>\n",
       "      <td>7.927732e-03</td>\n",
       "      <td>2.125853e-01</td>\n",
       "    </tr>\n",
       "    <tr>\n",
       "      <th>max</th>\n",
       "      <td>8.535914</td>\n",
       "      <td>1.870038e+01</td>\n",
       "      <td>6.249791e+00</td>\n",
       "      <td>1.071493e+01</td>\n",
       "      <td>7.688853e+00</td>\n",
       "    </tr>\n",
       "  </tbody>\n",
       "</table>\n",
       "</div>"
      ],
      "text/plain": [
       "       Interpersonal Violence  Drug Use Disorders    gdp/percap  \\\n",
       "count             3078.000000        3.078000e+03  3.078000e+03   \n",
       "mean                 0.000000        3.693529e-17  1.846765e-17   \n",
       "std                  1.000162        1.000162e+00  1.000162e+00   \n",
       "min                 -0.337577       -1.742242e-01 -6.613558e-01   \n",
       "25%                 -0.325982       -1.716393e-01 -5.983728e-01   \n",
       "50%                 -0.287946       -1.615869e-01 -4.375267e-01   \n",
       "75%                 -0.203465       -1.202286e-01  7.309557e-02   \n",
       "max                  8.535914        1.870038e+01  6.249791e+00   \n",
       "\n",
       "       Domestic private health expenditure (PVT-D) per capita in US$  \\\n",
       "count                                       3.078000e+03               \n",
       "mean                                        3.231838e-17               \n",
       "std                                         1.000162e+00               \n",
       "min                                        -4.895866e-01               \n",
       "25%                                        -4.446030e-01               \n",
       "50%                                        -3.353441e-01               \n",
       "75%                                         7.927732e-03               \n",
       "max                                         1.071493e+01               \n",
       "\n",
       "       Deaths due to tuberculosis among HIV-negative people (per 100 000 population)  \n",
       "count                                       3.078000e+03                              \n",
       "mean                                        2.770147e-17                              \n",
       "std                                         1.000162e+00                              \n",
       "min                                        -6.774466e-01                              \n",
       "25%                                        -6.284948e-01                              \n",
       "50%                                        -4.727392e-01                              \n",
       "75%                                         2.125853e-01                              \n",
       "max                                         7.688853e+00                              "
      ]
     },
     "execution_count": 24,
     "metadata": {},
     "output_type": "execute_result"
    }
   ],
   "source": [
    "df.describe()"
   ]
  },
  {
   "cell_type": "code",
   "execution_count": 8,
   "id": "960d6889",
   "metadata": {},
   "outputs": [],
   "source": [
    "df1 = pd.read_csv(r\"C:\\Users\\pabli\\Desktop\\Health-Database\\data\\clean_full_data.csv\")"
   ]
  },
  {
   "cell_type": "code",
   "execution_count": 14,
   "id": "09c6ac99",
   "metadata": {},
   "outputs": [
    {
     "data": {
      "text/plain": [
       "Unnamed: 0                                                                      3575\n",
       "country                                                                     Zimbabwe\n",
       "country_code                                                                     ZWE\n",
       "year                                                                            2015\n",
       "Meningitis                                                                    1439.0\n",
       "                                                                              ...   \n",
       "Number of non-pregnant women (aged 15-49 years) with anaemia (thousands)       950.0\n",
       "Prevalence of anaemia in pregnant women (aged 15-49) (%)                        32.4\n",
       "Mean hemoglobin level of non-pregnant women (aged 15-49 years)                 127.0\n",
       "average_age                                                                   20.703\n",
       "num_nan                                                                           10\n",
       "Name: 3073, Length: 157, dtype: object"
      ]
     },
     "execution_count": 14,
     "metadata": {},
     "output_type": "execute_result"
    }
   ],
   "source": [
    "df1.iloc[3073,:]"
   ]
  },
  {
   "cell_type": "code",
   "execution_count": null,
   "id": "357fcf50",
   "metadata": {},
   "outputs": [],
   "source": []
  }
 ],
 "metadata": {
  "kernelspec": {
   "display_name": "health",
   "language": "python",
   "name": "health"
  },
  "language_info": {
   "codemirror_mode": {
    "name": "ipython",
    "version": 3
   },
   "file_extension": ".py",
   "mimetype": "text/x-python",
   "name": "python",
   "nbconvert_exporter": "python",
   "pygments_lexer": "ipython3",
   "version": "3.9.12"
  }
 },
 "nbformat": 4,
 "nbformat_minor": 5
}
