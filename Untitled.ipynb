{
 "cells": [
  {
   "cell_type": "code",
   "execution_count": 1,
   "id": "fc2dca41",
   "metadata": {},
   "outputs": [],
   "source": [
    "import pandas as pd"
   ]
  },
  {
   "cell_type": "code",
   "execution_count": 33,
   "id": "71610419",
   "metadata": {},
   "outputs": [],
   "source": [
    "df = pd.read_csv(r\"C:\\Users\\pabli\\Desktop\\Health-Database\\data\\thresh4_models\\Prevalence of controlled hypertension among adults aged 30-79 years with hypertension, age-standardized.csv\")"
   ]
  },
  {
   "cell_type": "code",
   "execution_count": 34,
   "id": "553c0172",
   "metadata": {},
   "outputs": [
    {
     "data": {
      "text/html": [
       "<div>\n",
       "<style scoped>\n",
       "    .dataframe tbody tr th:only-of-type {\n",
       "        vertical-align: middle;\n",
       "    }\n",
       "\n",
       "    .dataframe tbody tr th {\n",
       "        vertical-align: top;\n",
       "    }\n",
       "\n",
       "    .dataframe thead th {\n",
       "        text-align: right;\n",
       "    }\n",
       "</style>\n",
       "<table border=\"1\" class=\"dataframe\">\n",
       "  <thead>\n",
       "    <tr style=\"text-align: right;\">\n",
       "      <th></th>\n",
       "      <th>Interpersonal Violence</th>\n",
       "      <th>Drug Use Disorders</th>\n",
       "      <th>gdp/percap</th>\n",
       "      <th>Domestic private health expenditure (PVT-D) per capita in US$</th>\n",
       "      <th>Deaths due to tuberculosis among HIV-negative people (per 100 000 population)</th>\n",
       "    </tr>\n",
       "  </thead>\n",
       "  <tbody>\n",
       "    <tr>\n",
       "      <th>0</th>\n",
       "      <td>0.079733</td>\n",
       "      <td>-0.116208</td>\n",
       "      <td>-0.655399</td>\n",
       "      <td>-0.468838</td>\n",
       "      <td>1.859144</td>\n",
       "    </tr>\n",
       "    <tr>\n",
       "      <th>1</th>\n",
       "      <td>0.102797</td>\n",
       "      <td>-0.112187</td>\n",
       "      <td>-0.653907</td>\n",
       "      <td>-0.466907</td>\n",
       "      <td>1.903646</td>\n",
       "    </tr>\n",
       "    <tr>\n",
       "      <th>2</th>\n",
       "      <td>0.105473</td>\n",
       "      <td>-0.108453</td>\n",
       "      <td>-0.652714</td>\n",
       "      <td>-0.462632</td>\n",
       "      <td>1.592135</td>\n",
       "    </tr>\n",
       "    <tr>\n",
       "      <th>3</th>\n",
       "      <td>0.108913</td>\n",
       "      <td>-0.105581</td>\n",
       "      <td>-0.649821</td>\n",
       "      <td>-0.459958</td>\n",
       "      <td>1.414128</td>\n",
       "    </tr>\n",
       "    <tr>\n",
       "      <th>4</th>\n",
       "      <td>0.122038</td>\n",
       "      <td>-0.103858</td>\n",
       "      <td>-0.646986</td>\n",
       "      <td>-0.455798</td>\n",
       "      <td>1.236122</td>\n",
       "    </tr>\n",
       "  </tbody>\n",
       "</table>\n",
       "</div>"
      ],
      "text/plain": [
       "   Interpersonal Violence  Drug Use Disorders  gdp/percap  \\\n",
       "0                0.079733           -0.116208   -0.655399   \n",
       "1                0.102797           -0.112187   -0.653907   \n",
       "2                0.105473           -0.108453   -0.652714   \n",
       "3                0.108913           -0.105581   -0.649821   \n",
       "4                0.122038           -0.103858   -0.646986   \n",
       "\n",
       "   Domestic private health expenditure (PVT-D) per capita in US$  \\\n",
       "0                                          -0.468838               \n",
       "1                                          -0.466907               \n",
       "2                                          -0.462632               \n",
       "3                                          -0.459958               \n",
       "4                                          -0.455798               \n",
       "\n",
       "   Deaths due to tuberculosis among HIV-negative people (per 100 000 population)  \n",
       "0                                           1.859144                              \n",
       "1                                           1.903646                              \n",
       "2                                           1.592135                              \n",
       "3                                           1.414128                              \n",
       "4                                           1.236122                              "
      ]
     },
     "execution_count": 34,
     "metadata": {},
     "output_type": "execute_result"
    }
   ],
   "source": [
    "df.head()"
   ]
  },
  {
   "cell_type": "code",
   "execution_count": 8,
   "id": "d179eb2f",
   "metadata": {},
   "outputs": [],
   "source": [
    "df1 = pd.read_csv(r\"C:\\Users\\pabli\\Desktop\\Health-Database\\data\\clean_full_data.csv\")"
   ]
  },
  {
   "cell_type": "code",
   "execution_count": 14,
   "id": "9398a54b",
   "metadata": {},
   "outputs": [
    {
     "data": {
      "text/plain": [
       "Unnamed: 0                                                                      3575\n",
       "country                                                                     Zimbabwe\n",
       "country_code                                                                     ZWE\n",
       "year                                                                            2015\n",
       "Meningitis                                                                    1439.0\n",
       "                                                                              ...   \n",
       "Number of non-pregnant women (aged 15-49 years) with anaemia (thousands)       950.0\n",
       "Prevalence of anaemia in pregnant women (aged 15-49) (%)                        32.4\n",
       "Mean hemoglobin level of non-pregnant women (aged 15-49 years)                 127.0\n",
       "average_age                                                                   20.703\n",
       "num_nan                                                                           10\n",
       "Name: 3073, Length: 157, dtype: object"
      ]
     },
     "execution_count": 14,
     "metadata": {},
     "output_type": "execute_result"
    }
   ],
   "source": [
    "df1.iloc[3073,:]"
   ]
  },
  {
   "cell_type": "code",
   "execution_count": null,
   "id": "72831888",
   "metadata": {},
   "outputs": [],
   "source": []
  }
 ],
 "metadata": {
  "kernelspec": {
   "display_name": "health",
   "language": "python",
   "name": "health"
  },
  "language_info": {
   "codemirror_mode": {
    "name": "ipython",
    "version": 3
   },
   "file_extension": ".py",
   "mimetype": "text/x-python",
   "name": "python",
   "nbconvert_exporter": "python",
   "pygments_lexer": "ipython3",
   "version": "3.9.12"
  }
 },
 "nbformat": 4,
 "nbformat_minor": 5
}
