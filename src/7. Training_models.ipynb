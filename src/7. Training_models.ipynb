{
 "cells": [
  {
   "cell_type": "code",
   "execution_count": 30,
   "id": "831f3e8c",
   "metadata": {},
   "outputs": [],
   "source": [
    "import pandas as pd"
   ]
  },
  {
   "cell_type": "markdown",
   "id": "d0d0cd30",
   "metadata": {},
   "source": [
    "### Now we are going train each of the 5 dataframes with the models we have found to be optimal in the model_column selection. We save the trained model in a pickel file so we can use it in our streamlit."
   ]
  },
  {
   "cell_type": "code",
   "execution_count": 84,
   "id": "6eceed83",
   "metadata": {},
   "outputs": [
    {
     "name": "stdout",
     "output_type": "stream",
     "text": [
      "12.3\n",
      "Adolescent birth rate (per 1000 women aged 15-19 years)\n",
      "12.3\n",
      "7.69\n",
      "Age-standardized suicide rates (per 100 000 population)\n",
      "7.69\n",
      "10.17557\n",
      "Estimates of rates of homicides per 100 000 population\n",
      "10.17557\n",
      "4.9\n",
      "Prevalence of controlled hypertension among adults aged 30-79 years with hypertension, age-standardized\n",
      "4.9\n",
      "44342.73\n",
      "Total NCD Deaths (in thousands)\n",
      "44342.73\n"
     ]
    }
   ],
   "source": [
    "\n",
    "# import required module\n",
    "\n",
    "\n",
    "import os\n",
    "import pandas as pd\n",
    "import pickle\n",
    "from sklearn.model_selection import train_test_split as tts\n",
    "from sklearn.linear_model import LinearRegression as LinReg\n",
    "from sklearn.linear_model import Lasso        # regularizacion L1\n",
    "from sklearn.linear_model import Ridge        # regularizacion L2\n",
    "from sklearn.linear_model import ElasticNet as Elastic\n",
    "\n",
    "from sklearn.linear_model import LogisticRegression as LogReg\n",
    "\n",
    "from sklearn.svm import SVR\n",
    "from sklearn.ensemble import RandomForestRegressor as RFR  \n",
    "from sklearn.tree import ExtraTreeRegressor as ETR\n",
    "from sklearn.ensemble import GradientBoostingRegressor as GBR\n",
    "from xgboost import XGBRegressor as XGBR\n",
    "from catboost import CatBoostRegressor as CTR\n",
    "from lightgbm import LGBMRegressor as LGBMR\n",
    "\n",
    "\n",
    "# assign directory\n",
    "\n",
    "\n",
    "directory = r'C:\\Users\\pabli\\Desktop\\Health-Database\\data\\thresh4_models'\n",
    "mod = {\"Adolescent birth rate (per 1000 women aged 15-19 years)\":RFR(),\n",
    " \"Age-standardized suicide rates (per 100 000 population)\":Lasso(),\n",
    " \"Estimates of rates of homicides per 100 000 population\":RFR(),\n",
    " \"Prevalence of controlled hypertension among adults aged 30-79 years with hypertension, age-standardized\":RFR(),\n",
    " \"Total NCD Deaths (in thousands)\":Elastic()}\n",
    "\n",
    "\n",
    "for filename in os.listdir(directory):\n",
    "    f = os.path.join(directory, filename)\n",
    "    if os.path.isfile(f):\n",
    "        df = pd.read_csv(f)\n",
    "        df1 = pd.read_csv(r\"C:\\Users\\pabli\\Desktop\\Health-Database\\data\\clean_full_data.csv\")\n",
    "        lst = df1[filename.split(\".c\")[0]]\n",
    "        print(lst[0])\n",
    "        file = filename.split(\".c\")[0]\n",
    "        df[file]=lst\n",
    "        print(file)\n",
    "        print(df[file][0])\n",
    "        X = df.drop(columns=file)\n",
    "        y = df[file]\n",
    "        X_train, X_test, y_train, y_test = tts(X, y, train_size=0.8, test_size=0.2, random_state=42)\n",
    "        mo = mod[file]\n",
    "        mo.fit(X_train, y_train)\n",
    "        pickle.dump(mo, open(f'model_{file}.pkl', 'wb'))\n",
    "        \n",
    "        \n",
    "        \n",
    "        \n"
   ]
  }
 ],
 "metadata": {
  "kernelspec": {
   "display_name": "health",
   "language": "python",
   "name": "health"
  },
  "language_info": {
   "codemirror_mode": {
    "name": "ipython",
    "version": 3
   },
   "file_extension": ".py",
   "mimetype": "text/x-python",
   "name": "python",
   "nbconvert_exporter": "python",
   "pygments_lexer": "ipython3",
   "version": "3.9.12"
  }
 },
 "nbformat": 4,
 "nbformat_minor": 5
}
