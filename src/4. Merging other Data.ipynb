{
 "cells": [
  {
   "cell_type": "code",
   "execution_count": 52,
   "id": "6fb96399",
   "metadata": {},
   "outputs": [],
   "source": [
    "import pandas as pd"
   ]
  },
  {
   "cell_type": "code",
   "execution_count": 53,
   "id": "3f01aebe",
   "metadata": {},
   "outputs": [],
   "source": [
    "median=pd.read_csv(r\"C:\\Users\\pabli\\Desktop\\Health-Database\\data\\MedianAge.csv\")"
   ]
  },
  {
   "cell_type": "markdown",
   "id": "4a0beb95",
   "metadata": {},
   "source": [
    "### More data is merged before cleaning, this data was obtained via a instant data scraper"
   ]
  },
  {
   "cell_type": "code",
   "execution_count": 54,
   "id": "d6ae693a",
   "metadata": {},
   "outputs": [
    {
     "data": {
      "text/plain": [
       "Index(['1950', '1955', '1960', '1965', '1970', '1975', '1980', '1985', '1990',\n",
       "       '1995'],\n",
       "      dtype='object')"
      ]
     },
     "execution_count": 54,
     "metadata": {},
     "output_type": "execute_result"
    }
   ],
   "source": [
    "median.columns[1:11]"
   ]
  },
  {
   "cell_type": "code",
   "execution_count": 55,
   "id": "8fa1588b",
   "metadata": {},
   "outputs": [],
   "source": [
    "median.drop(columns = median.columns[1:11],inplace = True )"
   ]
  },
  {
   "cell_type": "code",
   "execution_count": 56,
   "id": "af23de3c",
   "metadata": {},
   "outputs": [
    {
     "data": {
      "text/html": [
       "<div>\n",
       "<style scoped>\n",
       "    .dataframe tbody tr th:only-of-type {\n",
       "        vertical-align: middle;\n",
       "    }\n",
       "\n",
       "    .dataframe tbody tr th {\n",
       "        vertical-align: top;\n",
       "    }\n",
       "\n",
       "    .dataframe thead th {\n",
       "        text-align: right;\n",
       "    }\n",
       "</style>\n",
       "<table border=\"1\" class=\"dataframe\">\n",
       "  <thead>\n",
       "    <tr style=\"text-align: right;\">\n",
       "      <th></th>\n",
       "      <th>Country</th>\n",
       "      <th>2000</th>\n",
       "      <th>2005</th>\n",
       "      <th>2010</th>\n",
       "      <th>2015</th>\n",
       "      <th>2020</th>\n",
       "      <th>2025</th>\n",
       "      <th>2030</th>\n",
       "      <th>2035</th>\n",
       "      <th>2040</th>\n",
       "      <th>2045</th>\n",
       "      <th>2050</th>\n",
       "    </tr>\n",
       "  </thead>\n",
       "  <tbody>\n",
       "    <tr>\n",
       "      <th>0</th>\n",
       "      <td>Afghanistan</td>\n",
       "      <td>16.413</td>\n",
       "      <td>16.490</td>\n",
       "      <td>16.868</td>\n",
       "      <td>17.326</td>\n",
       "      <td>17.810</td>\n",
       "      <td>18.319</td>\n",
       "      <td>18.936</td>\n",
       "      <td>19.775</td>\n",
       "      <td>20.918</td>\n",
       "      <td>22.196</td>\n",
       "      <td>23.522</td>\n",
       "    </tr>\n",
       "    <tr>\n",
       "      <th>1</th>\n",
       "      <td>Albania</td>\n",
       "      <td>26.930</td>\n",
       "      <td>28.532</td>\n",
       "      <td>29.968</td>\n",
       "      <td>31.796</td>\n",
       "      <td>33.636</td>\n",
       "      <td>35.737</td>\n",
       "      <td>37.988</td>\n",
       "      <td>40.292</td>\n",
       "      <td>42.258</td>\n",
       "      <td>43.702</td>\n",
       "      <td>44.268</td>\n",
       "    </tr>\n",
       "    <tr>\n",
       "      <th>2</th>\n",
       "      <td>Algeria</td>\n",
       "      <td>21.787</td>\n",
       "      <td>24.015</td>\n",
       "      <td>26.247</td>\n",
       "      <td>28.311</td>\n",
       "      <td>30.333</td>\n",
       "      <td>32.300</td>\n",
       "      <td>34.187</td>\n",
       "      <td>35.547</td>\n",
       "      <td>36.877</td>\n",
       "      <td>38.145</td>\n",
       "      <td>39.416</td>\n",
       "    </tr>\n",
       "    <tr>\n",
       "      <th>3</th>\n",
       "      <td>Angola</td>\n",
       "      <td>16.374</td>\n",
       "      <td>16.718</td>\n",
       "      <td>17.385</td>\n",
       "      <td>17.989</td>\n",
       "      <td>18.658</td>\n",
       "      <td>19.510</td>\n",
       "      <td>20.435</td>\n",
       "      <td>21.623</td>\n",
       "      <td>22.891</td>\n",
       "      <td>24.197</td>\n",
       "      <td>25.561</td>\n",
       "    </tr>\n",
       "    <tr>\n",
       "      <th>4</th>\n",
       "      <td>Argentina</td>\n",
       "      <td>28.142</td>\n",
       "      <td>29.120</td>\n",
       "      <td>30.439</td>\n",
       "      <td>31.615</td>\n",
       "      <td>32.837</td>\n",
       "      <td>34.147</td>\n",
       "      <td>35.551</td>\n",
       "      <td>36.931</td>\n",
       "      <td>38.163</td>\n",
       "      <td>39.271</td>\n",
       "      <td>40.386</td>\n",
       "    </tr>\n",
       "    <tr>\n",
       "      <th>...</th>\n",
       "      <td>...</td>\n",
       "      <td>...</td>\n",
       "      <td>...</td>\n",
       "      <td>...</td>\n",
       "      <td>...</td>\n",
       "      <td>...</td>\n",
       "      <td>...</td>\n",
       "      <td>...</td>\n",
       "      <td>...</td>\n",
       "      <td>...</td>\n",
       "      <td>...</td>\n",
       "      <td>...</td>\n",
       "    </tr>\n",
       "    <tr>\n",
       "      <th>210</th>\n",
       "      <td>Western Europe</td>\n",
       "      <td>38.838</td>\n",
       "      <td>40.486</td>\n",
       "      <td>42.223</td>\n",
       "      <td>43.821</td>\n",
       "      <td>44.920</td>\n",
       "      <td>45.613</td>\n",
       "      <td>46.208</td>\n",
       "      <td>46.779</td>\n",
       "      <td>47.237</td>\n",
       "      <td>47.469</td>\n",
       "      <td>47.557</td>\n",
       "    </tr>\n",
       "    <tr>\n",
       "      <th>211</th>\n",
       "      <td>Western Sahara</td>\n",
       "      <td>22.126</td>\n",
       "      <td>24.221</td>\n",
       "      <td>26.466</td>\n",
       "      <td>28.347</td>\n",
       "      <td>30.050</td>\n",
       "      <td>31.775</td>\n",
       "      <td>33.359</td>\n",
       "      <td>34.691</td>\n",
       "      <td>35.667</td>\n",
       "      <td>36.607</td>\n",
       "      <td>37.585</td>\n",
       "    </tr>\n",
       "    <tr>\n",
       "      <th>212</th>\n",
       "      <td>Yemen, Rep.</td>\n",
       "      <td>15.763</td>\n",
       "      <td>16.802</td>\n",
       "      <td>17.797</td>\n",
       "      <td>18.782</td>\n",
       "      <td>19.776</td>\n",
       "      <td>20.898</td>\n",
       "      <td>22.304</td>\n",
       "      <td>23.845</td>\n",
       "      <td>25.508</td>\n",
       "      <td>27.293</td>\n",
       "      <td>29.108</td>\n",
       "    </tr>\n",
       "    <tr>\n",
       "      <th>213</th>\n",
       "      <td>Zambia</td>\n",
       "      <td>17.213</td>\n",
       "      <td>16.814</td>\n",
       "      <td>16.754</td>\n",
       "      <td>17.097</td>\n",
       "      <td>17.805</td>\n",
       "      <td>18.682</td>\n",
       "      <td>19.717</td>\n",
       "      <td>20.912</td>\n",
       "      <td>22.148</td>\n",
       "      <td>23.397</td>\n",
       "      <td>24.676</td>\n",
       "    </tr>\n",
       "    <tr>\n",
       "      <th>214</th>\n",
       "      <td>Zimbabwe</td>\n",
       "      <td>18.049</td>\n",
       "      <td>18.388</td>\n",
       "      <td>19.020</td>\n",
       "      <td>20.703</td>\n",
       "      <td>22.144</td>\n",
       "      <td>23.287</td>\n",
       "      <td>24.444</td>\n",
       "      <td>25.798</td>\n",
       "      <td>27.324</td>\n",
       "      <td>28.924</td>\n",
       "      <td>30.655</td>\n",
       "    </tr>\n",
       "  </tbody>\n",
       "</table>\n",
       "<p>215 rows × 12 columns</p>\n",
       "</div>"
      ],
      "text/plain": [
       "            Country    2000    2005    2010    2015    2020    2025    2030  \\\n",
       "0       Afghanistan  16.413  16.490  16.868  17.326  17.810  18.319  18.936   \n",
       "1           Albania  26.930  28.532  29.968  31.796  33.636  35.737  37.988   \n",
       "2           Algeria  21.787  24.015  26.247  28.311  30.333  32.300  34.187   \n",
       "3            Angola  16.374  16.718  17.385  17.989  18.658  19.510  20.435   \n",
       "4         Argentina  28.142  29.120  30.439  31.615  32.837  34.147  35.551   \n",
       "..              ...     ...     ...     ...     ...     ...     ...     ...   \n",
       "210  Western Europe  38.838  40.486  42.223  43.821  44.920  45.613  46.208   \n",
       "211  Western Sahara  22.126  24.221  26.466  28.347  30.050  31.775  33.359   \n",
       "212     Yemen, Rep.  15.763  16.802  17.797  18.782  19.776  20.898  22.304   \n",
       "213          Zambia  17.213  16.814  16.754  17.097  17.805  18.682  19.717   \n",
       "214        Zimbabwe  18.049  18.388  19.020  20.703  22.144  23.287  24.444   \n",
       "\n",
       "       2035    2040    2045    2050  \n",
       "0    19.775  20.918  22.196  23.522  \n",
       "1    40.292  42.258  43.702  44.268  \n",
       "2    35.547  36.877  38.145  39.416  \n",
       "3    21.623  22.891  24.197  25.561  \n",
       "4    36.931  38.163  39.271  40.386  \n",
       "..      ...     ...     ...     ...  \n",
       "210  46.779  47.237  47.469  47.557  \n",
       "211  34.691  35.667  36.607  37.585  \n",
       "212  23.845  25.508  27.293  29.108  \n",
       "213  20.912  22.148  23.397  24.676  \n",
       "214  25.798  27.324  28.924  30.655  \n",
       "\n",
       "[215 rows x 12 columns]"
      ]
     },
     "execution_count": 56,
     "metadata": {},
     "output_type": "execute_result"
    }
   ],
   "source": [
    "median"
   ]
  },
  {
   "cell_type": "code",
   "execution_count": 57,
   "id": "940c8c79",
   "metadata": {},
   "outputs": [
    {
     "data": {
      "text/plain": [
       "Index(['2020', '2025', '2030', '2035', '2040', '2045', '2050'], dtype='object')"
      ]
     },
     "execution_count": 57,
     "metadata": {},
     "output_type": "execute_result"
    }
   ],
   "source": [
    "median.columns[5:]"
   ]
  },
  {
   "cell_type": "code",
   "execution_count": 58,
   "id": "a5ac6b5c",
   "metadata": {},
   "outputs": [],
   "source": [
    "median.drop(columns =median.columns[5:],inplace = True )"
   ]
  },
  {
   "cell_type": "code",
   "execution_count": 59,
   "id": "d022689b",
   "metadata": {},
   "outputs": [
    {
     "data": {
      "text/html": [
       "<div>\n",
       "<style scoped>\n",
       "    .dataframe tbody tr th:only-of-type {\n",
       "        vertical-align: middle;\n",
       "    }\n",
       "\n",
       "    .dataframe tbody tr th {\n",
       "        vertical-align: top;\n",
       "    }\n",
       "\n",
       "    .dataframe thead th {\n",
       "        text-align: right;\n",
       "    }\n",
       "</style>\n",
       "<table border=\"1\" class=\"dataframe\">\n",
       "  <thead>\n",
       "    <tr style=\"text-align: right;\">\n",
       "      <th></th>\n",
       "      <th>Country</th>\n",
       "      <th>2000</th>\n",
       "      <th>2005</th>\n",
       "      <th>2010</th>\n",
       "      <th>2015</th>\n",
       "    </tr>\n",
       "  </thead>\n",
       "  <tbody>\n",
       "    <tr>\n",
       "      <th>0</th>\n",
       "      <td>Afghanistan</td>\n",
       "      <td>16.413</td>\n",
       "      <td>16.490</td>\n",
       "      <td>16.868</td>\n",
       "      <td>17.326</td>\n",
       "    </tr>\n",
       "    <tr>\n",
       "      <th>1</th>\n",
       "      <td>Albania</td>\n",
       "      <td>26.930</td>\n",
       "      <td>28.532</td>\n",
       "      <td>29.968</td>\n",
       "      <td>31.796</td>\n",
       "    </tr>\n",
       "    <tr>\n",
       "      <th>2</th>\n",
       "      <td>Algeria</td>\n",
       "      <td>21.787</td>\n",
       "      <td>24.015</td>\n",
       "      <td>26.247</td>\n",
       "      <td>28.311</td>\n",
       "    </tr>\n",
       "    <tr>\n",
       "      <th>3</th>\n",
       "      <td>Angola</td>\n",
       "      <td>16.374</td>\n",
       "      <td>16.718</td>\n",
       "      <td>17.385</td>\n",
       "      <td>17.989</td>\n",
       "    </tr>\n",
       "    <tr>\n",
       "      <th>4</th>\n",
       "      <td>Argentina</td>\n",
       "      <td>28.142</td>\n",
       "      <td>29.120</td>\n",
       "      <td>30.439</td>\n",
       "      <td>31.615</td>\n",
       "    </tr>\n",
       "    <tr>\n",
       "      <th>...</th>\n",
       "      <td>...</td>\n",
       "      <td>...</td>\n",
       "      <td>...</td>\n",
       "      <td>...</td>\n",
       "      <td>...</td>\n",
       "    </tr>\n",
       "    <tr>\n",
       "      <th>210</th>\n",
       "      <td>Western Europe</td>\n",
       "      <td>38.838</td>\n",
       "      <td>40.486</td>\n",
       "      <td>42.223</td>\n",
       "      <td>43.821</td>\n",
       "    </tr>\n",
       "    <tr>\n",
       "      <th>211</th>\n",
       "      <td>Western Sahara</td>\n",
       "      <td>22.126</td>\n",
       "      <td>24.221</td>\n",
       "      <td>26.466</td>\n",
       "      <td>28.347</td>\n",
       "    </tr>\n",
       "    <tr>\n",
       "      <th>212</th>\n",
       "      <td>Yemen, Rep.</td>\n",
       "      <td>15.763</td>\n",
       "      <td>16.802</td>\n",
       "      <td>17.797</td>\n",
       "      <td>18.782</td>\n",
       "    </tr>\n",
       "    <tr>\n",
       "      <th>213</th>\n",
       "      <td>Zambia</td>\n",
       "      <td>17.213</td>\n",
       "      <td>16.814</td>\n",
       "      <td>16.754</td>\n",
       "      <td>17.097</td>\n",
       "    </tr>\n",
       "    <tr>\n",
       "      <th>214</th>\n",
       "      <td>Zimbabwe</td>\n",
       "      <td>18.049</td>\n",
       "      <td>18.388</td>\n",
       "      <td>19.020</td>\n",
       "      <td>20.703</td>\n",
       "    </tr>\n",
       "  </tbody>\n",
       "</table>\n",
       "<p>215 rows × 5 columns</p>\n",
       "</div>"
      ],
      "text/plain": [
       "            Country    2000    2005    2010    2015\n",
       "0       Afghanistan  16.413  16.490  16.868  17.326\n",
       "1           Albania  26.930  28.532  29.968  31.796\n",
       "2           Algeria  21.787  24.015  26.247  28.311\n",
       "3            Angola  16.374  16.718  17.385  17.989\n",
       "4         Argentina  28.142  29.120  30.439  31.615\n",
       "..              ...     ...     ...     ...     ...\n",
       "210  Western Europe  38.838  40.486  42.223  43.821\n",
       "211  Western Sahara  22.126  24.221  26.466  28.347\n",
       "212     Yemen, Rep.  15.763  16.802  17.797  18.782\n",
       "213          Zambia  17.213  16.814  16.754  17.097\n",
       "214        Zimbabwe  18.049  18.388  19.020  20.703\n",
       "\n",
       "[215 rows x 5 columns]"
      ]
     },
     "execution_count": 59,
     "metadata": {},
     "output_type": "execute_result"
    }
   ],
   "source": [
    "median"
   ]
  },
  {
   "cell_type": "code",
   "execution_count": 60,
   "id": "1ed16773",
   "metadata": {},
   "outputs": [],
   "source": [
    "lst = []\n",
    "for i,e in enumerate(median.Country):\n",
    "    for g in range(1,5):\n",
    "        amount= median.iloc[i,g]\n",
    "        year = 2000 + (g-1)*5\n",
    "        \n",
    "        lst.append({\"country\":e,\"year\":year,\"average_age\":amount})\n",
    "data2 = pd.DataFrame(lst)"
   ]
  },
  {
   "cell_type": "code",
   "execution_count": 61,
   "id": "24fc3507",
   "metadata": {},
   "outputs": [
    {
     "data": {
      "text/plain": [
       "numpy.int64"
      ]
     },
     "execution_count": 61,
     "metadata": {},
     "output_type": "execute_result"
    }
   ],
   "source": [
    "type(data2.year[0])"
   ]
  },
  {
   "cell_type": "code",
   "execution_count": 62,
   "id": "92593169",
   "metadata": {},
   "outputs": [],
   "source": [
    "data = pd.read_csv(r'C:\\Users\\pabli\\Desktop\\Health-Database\\data\\full_data2.csv')"
   ]
  },
  {
   "cell_type": "code",
   "execution_count": 64,
   "id": "9c866758",
   "metadata": {},
   "outputs": [],
   "source": [
    "data = data.merge(data2, how='left',on = ['year','country'])"
   ]
  },
  {
   "cell_type": "code",
   "execution_count": 66,
   "id": "bfbb10d8",
   "metadata": {},
   "outputs": [
    {
     "name": "stderr",
     "output_type": "stream",
     "text": [
      "C:\\Users\\pabli\\AppData\\Local\\Temp\\ipykernel_12472\\2727447308.py:1: FutureWarning: The default value of numeric_only in DataFrameGroupBy.mean is deprecated. In a future version, numeric_only will default to False. Either specify numeric_only or select only columns which should be valid for the function.\n",
      "  df = data.groupby(by=\"country\").mean()[\"average_age\"]\n"
     ]
    }
   ],
   "source": [
    "df = data.groupby(by=\"country\").mean()[\"average_age\"]"
   ]
  },
  {
   "cell_type": "code",
   "execution_count": 67,
   "id": "9782ee27",
   "metadata": {},
   "outputs": [],
   "source": [
    "df1 = {}\n",
    "for i in range(len(df)):\n",
    "    df1[df.index[i]]= df[i]"
   ]
  },
  {
   "cell_type": "code",
   "execution_count": 69,
   "id": "dd229cb6",
   "metadata": {},
   "outputs": [],
   "source": [
    "to = data[data[\"average_age\"].isna()==True].index"
   ]
  },
  {
   "cell_type": "code",
   "execution_count": 70,
   "id": "2caa057e",
   "metadata": {},
   "outputs": [
    {
     "name": "stderr",
     "output_type": "stream",
     "text": [
      "C:\\Users\\pabli\\AppData\\Local\\Temp\\ipykernel_12472\\2929636081.py:2: SettingWithCopyWarning: \n",
      "A value is trying to be set on a copy of a slice from a DataFrame\n",
      "\n",
      "See the caveats in the documentation: https://pandas.pydata.org/pandas-docs/stable/user_guide/indexing.html#returning-a-view-versus-a-copy\n",
      "  data[\"average_age\"][i] = df1[data[\"country\"][i]]\n"
     ]
    }
   ],
   "source": [
    "for i in to:\n",
    "    data[\"average_age\"][i] = df1[data[\"country\"][i]]"
   ]
  },
  {
   "cell_type": "code",
   "execution_count": 72,
   "id": "73c4b671",
   "metadata": {},
   "outputs": [],
   "source": [
    "data.to_csv(r\"C:\\Users\\pabli\\Desktop\\Health-Database\\data\\full_data2.csv\")"
   ]
  },
  {
   "cell_type": "code",
   "execution_count": null,
   "id": "ce0cbf3a",
   "metadata": {},
   "outputs": [],
   "source": []
  }
 ],
 "metadata": {
  "kernelspec": {
   "display_name": "health",
   "language": "python",
   "name": "health"
  },
  "language_info": {
   "codemirror_mode": {
    "name": "ipython",
    "version": 3
   },
   "file_extension": ".py",
   "mimetype": "text/x-python",
   "name": "python",
   "nbconvert_exporter": "python",
   "pygments_lexer": "ipython3",
   "version": "3.9.12"
  }
 },
 "nbformat": 4,
 "nbformat_minor": 5
}
