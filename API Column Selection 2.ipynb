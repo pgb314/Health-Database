{
 "cells": [
  {
   "cell_type": "code",
   "execution_count": 1,
   "id": "a3ac0018",
   "metadata": {},
   "outputs": [],
   "source": [
    "import pandas as pd"
   ]
  },
  {
   "cell_type": "code",
   "execution_count": 2,
   "id": "19c83988",
   "metadata": {},
   "outputs": [],
   "source": [
    "df = pd.read_json(r'C:\\Users\\pabli\\Desktop\\Indicadores.json')"
   ]
  },
  {
   "cell_type": "code",
   "execution_count": 3,
   "id": "51f6d427",
   "metadata": {},
   "outputs": [],
   "source": [
    "lst1 = []\n",
    "lst2 = []\n",
    "for i,e in enumerate(df.value):\n",
    "    lst1.append(list(df.value[i].values())[0])\n",
    "    lst2.append(list(df.value[i].values())[1])"
   ]
  },
  {
   "cell_type": "code",
   "execution_count": 4,
   "id": "43a745f8",
   "metadata": {},
   "outputs": [],
   "source": [
    "df[\"IndCode\"]=lst1\n",
    "df[\"IndName\"]=lst2"
   ]
  },
  {
   "cell_type": "code",
   "execution_count": 5,
   "id": "bde8c2c7",
   "metadata": {},
   "outputs": [],
   "source": [
    "df.drop(columns = [\"@odata.context\",\"value\"],inplace=True)"
   ]
  },
  {
   "cell_type": "code",
   "execution_count": 6,
   "id": "aa3d68e3",
   "metadata": {},
   "outputs": [
    {
     "data": {
      "text/html": [
       "<div>\n",
       "<style scoped>\n",
       "    .dataframe tbody tr th:only-of-type {\n",
       "        vertical-align: middle;\n",
       "    }\n",
       "\n",
       "    .dataframe tbody tr th {\n",
       "        vertical-align: top;\n",
       "    }\n",
       "\n",
       "    .dataframe thead th {\n",
       "        text-align: right;\n",
       "    }\n",
       "</style>\n",
       "<table border=\"1\" class=\"dataframe\">\n",
       "  <thead>\n",
       "    <tr style=\"text-align: right;\">\n",
       "      <th></th>\n",
       "      <th>IndCode</th>\n",
       "      <th>IndName</th>\n",
       "    </tr>\n",
       "  </thead>\n",
       "  <tbody>\n",
       "    <tr>\n",
       "      <th>0</th>\n",
       "      <td>AIR_10</td>\n",
       "      <td>Ambient air pollution  attributable DALYs per ...</td>\n",
       "    </tr>\n",
       "    <tr>\n",
       "      <th>1</th>\n",
       "      <td>AIR_11</td>\n",
       "      <td>Household air pollution attributable deaths</td>\n",
       "    </tr>\n",
       "    <tr>\n",
       "      <th>2</th>\n",
       "      <td>AIR_12</td>\n",
       "      <td>Household air pollution attributable deaths in...</td>\n",
       "    </tr>\n",
       "    <tr>\n",
       "      <th>3</th>\n",
       "      <td>AIR_15</td>\n",
       "      <td>Household air pollution attributable DALYs</td>\n",
       "    </tr>\n",
       "    <tr>\n",
       "      <th>4</th>\n",
       "      <td>AIR_16</td>\n",
       "      <td>Household air pollution attributable DALYs in ...</td>\n",
       "    </tr>\n",
       "    <tr>\n",
       "      <th>...</th>\n",
       "      <td>...</td>\n",
       "      <td>...</td>\n",
       "    </tr>\n",
       "    <tr>\n",
       "      <th>2244</th>\n",
       "      <td>Adult_daily_e-cig</td>\n",
       "      <td>Prevalence of daily e-cigarette use among adul...</td>\n",
       "    </tr>\n",
       "    <tr>\n",
       "      <th>2245</th>\n",
       "      <td>P_compl_all_sfe</td>\n",
       "      <td>Overall compliance with regulations on smoke-f...</td>\n",
       "    </tr>\n",
       "    <tr>\n",
       "      <th>2246</th>\n",
       "      <td>GASPTICFM</td>\n",
       "      <td>Number of isolates tested for cefixime</td>\n",
       "    </tr>\n",
       "    <tr>\n",
       "      <th>2247</th>\n",
       "      <td>UHCTRANSFATS</td>\n",
       "      <td>Best-practice policy implemented for industria...</td>\n",
       "    </tr>\n",
       "    <tr>\n",
       "      <th>2248</th>\n",
       "      <td>NCD_CCS_urine_strips_gluc_ketone</td>\n",
       "      <td>General availability of urine strips for gluco...</td>\n",
       "    </tr>\n",
       "  </tbody>\n",
       "</table>\n",
       "<p>2249 rows × 2 columns</p>\n",
       "</div>"
      ],
      "text/plain": [
       "                               IndCode  \\\n",
       "0                               AIR_10   \n",
       "1                               AIR_11   \n",
       "2                               AIR_12   \n",
       "3                               AIR_15   \n",
       "4                               AIR_16   \n",
       "...                                ...   \n",
       "2244                 Adult_daily_e-cig   \n",
       "2245                   P_compl_all_sfe   \n",
       "2246                         GASPTICFM   \n",
       "2247                      UHCTRANSFATS   \n",
       "2248  NCD_CCS_urine_strips_gluc_ketone   \n",
       "\n",
       "                                                IndName  \n",
       "0     Ambient air pollution  attributable DALYs per ...  \n",
       "1           Household air pollution attributable deaths  \n",
       "2     Household air pollution attributable deaths in...  \n",
       "3            Household air pollution attributable DALYs  \n",
       "4     Household air pollution attributable DALYs in ...  \n",
       "...                                                 ...  \n",
       "2244  Prevalence of daily e-cigarette use among adul...  \n",
       "2245  Overall compliance with regulations on smoke-f...  \n",
       "2246             Number of isolates tested for cefixime  \n",
       "2247  Best-practice policy implemented for industria...  \n",
       "2248  General availability of urine strips for gluco...  \n",
       "\n",
       "[2249 rows x 2 columns]"
      ]
     },
     "execution_count": 6,
     "metadata": {},
     "output_type": "execute_result"
    }
   ],
   "source": [
    "df"
   ]
  },
  {
   "cell_type": "code",
   "execution_count": 7,
   "id": "4a59aab2",
   "metadata": {},
   "outputs": [],
   "source": [
    "df.to_csv(r'C:\\Users\\pabli\\Desktop\\Health-Database\\data\\columns2.csv')"
   ]
  },
  {
   "cell_type": "code",
   "execution_count": null,
   "id": "0c20f21c",
   "metadata": {},
   "outputs": [],
   "source": []
  }
 ],
 "metadata": {
  "kernelspec": {
   "display_name": "Python 3",
   "language": "python",
   "name": "python3"
  },
  "language_info": {
   "codemirror_mode": {
    "name": "ipython",
    "version": 3
   },
   "file_extension": ".py",
   "mimetype": "text/x-python",
   "name": "python",
   "nbconvert_exporter": "python",
   "pygments_lexer": "ipython3",
   "version": "3.9.12"
  }
 },
 "nbformat": 4,
 "nbformat_minor": 5
}
