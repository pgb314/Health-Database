{
 "cells": [
  {
   "cell_type": "code",
   "execution_count": 18,
   "id": "3ec1e2ee",
   "metadata": {},
   "outputs": [],
   "source": [
    "import numpy as np\n",
    "import pandas as pd\n",
    "import matplotlib.pyplot as plt\n",
    "import seaborn as sns\n",
    "import json\n",
    "import requests\n",
    "import time\n",
    "from Functions import *"
   ]
  },
  {
   "cell_type": "code",
   "execution_count": 2,
   "id": "1b41cb52",
   "metadata": {},
   "outputs": [],
   "source": [
    "data = pd.read_csv(r'C:\\Users\\pabli\\Desktop\\Health-Database\\data\\columns.csv')"
   ]
  },
  {
   "cell_type": "code",
   "execution_count": 9,
   "id": "00d83d02",
   "metadata": {},
   "outputs": [],
   "source": [
    "all_ = pd.read_csv(r'C:\\Users\\pabli\\Desktop\\Health-Database\\data\\extraction_data.csv')"
   ]
  },
  {
   "cell_type": "code",
   "execution_count": 5,
   "id": "fa477eae",
   "metadata": {},
   "outputs": [],
   "source": [
    "data.rename(columns={\"IndCode\": \"Code\"},inplace=True)"
   ]
  },
  {
   "cell_type": "code",
   "execution_count": 6,
   "id": "ff75745a",
   "metadata": {},
   "outputs": [
    {
     "data": {
      "text/html": [
       "<div>\n",
       "<style scoped>\n",
       "    .dataframe tbody tr th:only-of-type {\n",
       "        vertical-align: middle;\n",
       "    }\n",
       "\n",
       "    .dataframe tbody tr th {\n",
       "        vertical-align: top;\n",
       "    }\n",
       "\n",
       "    .dataframe thead th {\n",
       "        text-align: right;\n",
       "    }\n",
       "</style>\n",
       "<table border=\"1\" class=\"dataframe\">\n",
       "  <thead>\n",
       "    <tr style=\"text-align: right;\">\n",
       "      <th></th>\n",
       "      <th>Unnamed: 0</th>\n",
       "      <th>Code</th>\n",
       "      <th>IndName</th>\n",
       "    </tr>\n",
       "  </thead>\n",
       "  <tbody>\n",
       "    <tr>\n",
       "      <th>0</th>\n",
       "      <td>0</td>\n",
       "      <td>AIR_42</td>\n",
       "      <td>Ambient air pollution attributable death rate ...</td>\n",
       "    </tr>\n",
       "    <tr>\n",
       "      <th>1</th>\n",
       "      <td>1</td>\n",
       "      <td>AIR_51</td>\n",
       "      <td>Household air pollution attributable death rat...</td>\n",
       "    </tr>\n",
       "    <tr>\n",
       "      <th>2</th>\n",
       "      <td>2</td>\n",
       "      <td>anc1</td>\n",
       "      <td>Antenatal care coverage - at least one visit (...</td>\n",
       "    </tr>\n",
       "    <tr>\n",
       "      <th>3</th>\n",
       "      <td>3</td>\n",
       "      <td>BP_04</td>\n",
       "      <td>Raised blood pressure (SBP&gt;=140 OR DBP&gt;=90) (a...</td>\n",
       "    </tr>\n",
       "    <tr>\n",
       "      <th>4</th>\n",
       "      <td>4</td>\n",
       "      <td>BP_06</td>\n",
       "      <td>Mean systolic blood pressure (age-standardized...</td>\n",
       "    </tr>\n",
       "    <tr>\n",
       "      <th>...</th>\n",
       "      <td>...</td>\n",
       "      <td>...</td>\n",
       "      <td>...</td>\n",
       "    </tr>\n",
       "    <tr>\n",
       "      <th>75</th>\n",
       "      <td>75</td>\n",
       "      <td>MALARIA_ITN_COVERAGE</td>\n",
       "      <td>Population with access to an insecticide-treat...</td>\n",
       "    </tr>\n",
       "    <tr>\n",
       "      <th>76</th>\n",
       "      <td>76</td>\n",
       "      <td>Adult_curr_cig_smoking</td>\n",
       "      <td>Prevalence of current cigarette smoking among ...</td>\n",
       "    </tr>\n",
       "    <tr>\n",
       "      <th>77</th>\n",
       "      <td>77</td>\n",
       "      <td>MALARIA_EST_MORTALITY</td>\n",
       "      <td>Estimated malaria mortality rate (per 100 000 ...</td>\n",
       "    </tr>\n",
       "    <tr>\n",
       "      <th>78</th>\n",
       "      <td>78</td>\n",
       "      <td>vmsl</td>\n",
       "      <td>Measles immunization coverage among one-year-o...</td>\n",
       "    </tr>\n",
       "    <tr>\n",
       "      <th>79</th>\n",
       "      <td>79</td>\n",
       "      <td>vpolio</td>\n",
       "      <td>Polio immunization coverage among one-year-old...</td>\n",
       "    </tr>\n",
       "  </tbody>\n",
       "</table>\n",
       "<p>80 rows × 3 columns</p>\n",
       "</div>"
      ],
      "text/plain": [
       "    Unnamed: 0                    Code  \\\n",
       "0            0                  AIR_42   \n",
       "1            1                  AIR_51   \n",
       "2            2                    anc1   \n",
       "3            3                   BP_04   \n",
       "4            4                   BP_06   \n",
       "..         ...                     ...   \n",
       "75          75    MALARIA_ITN_COVERAGE   \n",
       "76          76  Adult_curr_cig_smoking   \n",
       "77          77   MALARIA_EST_MORTALITY   \n",
       "78          78                    vmsl   \n",
       "79          79                  vpolio   \n",
       "\n",
       "                                              IndName  \n",
       "0   Ambient air pollution attributable death rate ...  \n",
       "1   Household air pollution attributable death rat...  \n",
       "2   Antenatal care coverage - at least one visit (...  \n",
       "3   Raised blood pressure (SBP>=140 OR DBP>=90) (a...  \n",
       "4   Mean systolic blood pressure (age-standardized...  \n",
       "..                                                ...  \n",
       "75  Population with access to an insecticide-treat...  \n",
       "76  Prevalence of current cigarette smoking among ...  \n",
       "77  Estimated malaria mortality rate (per 100 000 ...  \n",
       "78  Measles immunization coverage among one-year-o...  \n",
       "79  Polio immunization coverage among one-year-old...  \n",
       "\n",
       "[80 rows x 3 columns]"
      ]
     },
     "execution_count": 6,
     "metadata": {},
     "output_type": "execute_result"
    }
   ],
   "source": [
    "data"
   ]
  },
  {
   "cell_type": "code",
   "execution_count": 7,
   "id": "53095d47",
   "metadata": {},
   "outputs": [],
   "source": [
    "data.drop(columns = \"Unnamed: 0\", inplace = True)"
   ]
  },
  {
   "cell_type": "code",
   "execution_count": 8,
   "id": "9a59868e",
   "metadata": {},
   "outputs": [
    {
     "data": {
      "text/html": [
       "<div>\n",
       "<style scoped>\n",
       "    .dataframe tbody tr th:only-of-type {\n",
       "        vertical-align: middle;\n",
       "    }\n",
       "\n",
       "    .dataframe tbody tr th {\n",
       "        vertical-align: top;\n",
       "    }\n",
       "\n",
       "    .dataframe thead th {\n",
       "        text-align: right;\n",
       "    }\n",
       "</style>\n",
       "<table border=\"1\" class=\"dataframe\">\n",
       "  <thead>\n",
       "    <tr style=\"text-align: right;\">\n",
       "      <th></th>\n",
       "      <th>Code</th>\n",
       "      <th>IndName</th>\n",
       "    </tr>\n",
       "  </thead>\n",
       "  <tbody>\n",
       "    <tr>\n",
       "      <th>0</th>\n",
       "      <td>AIR_42</td>\n",
       "      <td>Ambient air pollution attributable death rate ...</td>\n",
       "    </tr>\n",
       "    <tr>\n",
       "      <th>1</th>\n",
       "      <td>AIR_51</td>\n",
       "      <td>Household air pollution attributable death rat...</td>\n",
       "    </tr>\n",
       "    <tr>\n",
       "      <th>2</th>\n",
       "      <td>anc1</td>\n",
       "      <td>Antenatal care coverage - at least one visit (...</td>\n",
       "    </tr>\n",
       "    <tr>\n",
       "      <th>3</th>\n",
       "      <td>BP_04</td>\n",
       "      <td>Raised blood pressure (SBP&gt;=140 OR DBP&gt;=90) (a...</td>\n",
       "    </tr>\n",
       "    <tr>\n",
       "      <th>4</th>\n",
       "      <td>BP_06</td>\n",
       "      <td>Mean systolic blood pressure (age-standardized...</td>\n",
       "    </tr>\n",
       "    <tr>\n",
       "      <th>...</th>\n",
       "      <td>...</td>\n",
       "      <td>...</td>\n",
       "    </tr>\n",
       "    <tr>\n",
       "      <th>75</th>\n",
       "      <td>MALARIA_ITN_COVERAGE</td>\n",
       "      <td>Population with access to an insecticide-treat...</td>\n",
       "    </tr>\n",
       "    <tr>\n",
       "      <th>76</th>\n",
       "      <td>Adult_curr_cig_smoking</td>\n",
       "      <td>Prevalence of current cigarette smoking among ...</td>\n",
       "    </tr>\n",
       "    <tr>\n",
       "      <th>77</th>\n",
       "      <td>MALARIA_EST_MORTALITY</td>\n",
       "      <td>Estimated malaria mortality rate (per 100 000 ...</td>\n",
       "    </tr>\n",
       "    <tr>\n",
       "      <th>78</th>\n",
       "      <td>vmsl</td>\n",
       "      <td>Measles immunization coverage among one-year-o...</td>\n",
       "    </tr>\n",
       "    <tr>\n",
       "      <th>79</th>\n",
       "      <td>vpolio</td>\n",
       "      <td>Polio immunization coverage among one-year-old...</td>\n",
       "    </tr>\n",
       "  </tbody>\n",
       "</table>\n",
       "<p>80 rows × 2 columns</p>\n",
       "</div>"
      ],
      "text/plain": [
       "                      Code                                            IndName\n",
       "0                   AIR_42  Ambient air pollution attributable death rate ...\n",
       "1                   AIR_51  Household air pollution attributable death rat...\n",
       "2                     anc1  Antenatal care coverage - at least one visit (...\n",
       "3                    BP_04  Raised blood pressure (SBP>=140 OR DBP>=90) (a...\n",
       "4                    BP_06  Mean systolic blood pressure (age-standardized...\n",
       "..                     ...                                                ...\n",
       "75    MALARIA_ITN_COVERAGE  Population with access to an insecticide-treat...\n",
       "76  Adult_curr_cig_smoking  Prevalence of current cigarette smoking among ...\n",
       "77   MALARIA_EST_MORTALITY  Estimated malaria mortality rate (per 100 000 ...\n",
       "78                    vmsl  Measles immunization coverage among one-year-o...\n",
       "79                  vpolio  Polio immunization coverage among one-year-old...\n",
       "\n",
       "[80 rows x 2 columns]"
      ]
     },
     "execution_count": 8,
     "metadata": {},
     "output_type": "execute_result"
    }
   ],
   "source": [
    "data"
   ]
  },
  {
   "cell_type": "code",
   "execution_count": 14,
   "id": "83093055",
   "metadata": {},
   "outputs": [
    {
     "ename": "NameError",
     "evalue": "name 'requests' is not defined",
     "output_type": "error",
     "traceback": [
      "\u001b[1;31m---------------------------------------------------------------------------\u001b[0m",
      "\u001b[1;31mNameError\u001b[0m                                 Traceback (most recent call last)",
      "Cell \u001b[1;32mIn [14], line 4\u001b[0m\n\u001b[0;32m      2\u001b[0m ind_code \u001b[38;5;241m=\u001b[39m e\n\u001b[0;32m      3\u001b[0m ind_text \u001b[38;5;241m=\u001b[39m data\u001b[38;5;241m.\u001b[39mIndName[i]\n\u001b[1;32m----> 4\u001b[0m data_raw \u001b[38;5;241m=\u001b[39m \u001b[43mget_indicator\u001b[49m\u001b[43m(\u001b[49m\u001b[43mind_code\u001b[49m\u001b[43m,\u001b[49m\u001b[43m \u001b[49m\u001b[43mind_text\u001b[49m\u001b[43m)\u001b[49m\n\u001b[0;32m      6\u001b[0m data01a \u001b[38;5;241m=\u001b[39m data_raw[data_raw[\u001b[38;5;124m'\u001b[39m\u001b[38;5;124mDim1\u001b[39m\u001b[38;5;124m'\u001b[39m] \u001b[38;5;241m==\u001b[39m \u001b[38;5;124m'\u001b[39m\u001b[38;5;124mBTSX\u001b[39m\u001b[38;5;124m'\u001b[39m][[\u001b[38;5;124m'\u001b[39m\u001b[38;5;124mcountry_code\u001b[39m\u001b[38;5;124m'\u001b[39m, \u001b[38;5;124m'\u001b[39m\u001b[38;5;124myear\u001b[39m\u001b[38;5;124m'\u001b[39m, ind_text]]\n\u001b[0;32m      7\u001b[0m data01a \u001b[38;5;241m=\u001b[39m remove_duplicates(data01a)\n",
      "File \u001b[1;32m~\\Desktop\\Health-Database\\Functions.py:74\u001b[0m, in \u001b[0;36mget_indicator\u001b[1;34m(ind_code, ind_text)\u001b[0m\n\u001b[0;32m     72\u001b[0m DATE_2000S \u001b[38;5;241m=\u001b[39m \u001b[38;5;124m'\u001b[39m\u001b[38;5;124m?$filter=date(TimeDimensionBegin) ge 2000-01-01\u001b[39m\u001b[38;5;124m'\u001b[39m    \n\u001b[0;32m     73\u001b[0m service_url \u001b[38;5;241m=\u001b[39m BASE_URL \u001b[38;5;241m+\u001b[39m ind_code \u001b[38;5;241m+\u001b[39m DATE_2000S\n\u001b[1;32m---> 74\u001b[0m response \u001b[38;5;241m=\u001b[39m \u001b[43mrequests\u001b[49m\u001b[38;5;241m.\u001b[39mget(service_url)\n\u001b[0;32m     76\u001b[0m \u001b[38;5;28;01mif\u001b[39;00m(response\u001b[38;5;241m.\u001b[39mok):\n\u001b[0;32m     77\u001b[0m     data_j \u001b[38;5;241m=\u001b[39m response\u001b[38;5;241m.\u001b[39mjson()\n",
      "\u001b[1;31mNameError\u001b[0m: name 'requests' is not defined"
     ]
    }
   ],
   "source": [
    "for i,e in enumerate(data.Code):     \n",
    "    ind_code = e\n",
    "    ind_text = data.IndName[i]\n",
    "    data_raw = get_indicator(ind_code, ind_text)\n",
    "\n",
    "    data01a = data_raw[data_raw['Dim1'] == 'BTSX'][['country_code', 'year', ind_text]]\n",
    "    data01a = remove_duplicates(data01a)\n",
    "    all_ = all_.merge(data01a, how='left',on = ['year','Code'])"
   ]
  },
  {
   "cell_type": "code",
   "execution_count": 20,
   "id": "3a7e844f",
   "metadata": {},
   "outputs": [
    {
     "ename": "NameError",
     "evalue": "name 'requests' is not defined",
     "output_type": "error",
     "traceback": [
      "\u001b[1;31m---------------------------------------------------------------------------\u001b[0m",
      "\u001b[1;31mNameError\u001b[0m                                 Traceback (most recent call last)",
      "Cell \u001b[1;32mIn [20], line 3\u001b[0m\n\u001b[0;32m      1\u001b[0m ind_code \u001b[38;5;241m=\u001b[39m \u001b[38;5;124m'\u001b[39m\u001b[38;5;124mWHOSIS_000001\u001b[39m\u001b[38;5;124m'\u001b[39m\n\u001b[0;32m      2\u001b[0m ind_text \u001b[38;5;241m=\u001b[39m \u001b[38;5;124m'\u001b[39m\u001b[38;5;124mlife_expect\u001b[39m\u001b[38;5;124m'\u001b[39m\n\u001b[1;32m----> 3\u001b[0m data_raw \u001b[38;5;241m=\u001b[39m \u001b[43mget_indicator\u001b[49m\u001b[43m(\u001b[49m\u001b[43mind_code\u001b[49m\u001b[43m,\u001b[49m\u001b[43m \u001b[49m\u001b[43mind_text\u001b[49m\u001b[43m)\u001b[49m\n\u001b[0;32m      5\u001b[0m data01 \u001b[38;5;241m=\u001b[39m data_raw[data_raw[\u001b[38;5;124m'\u001b[39m\u001b[38;5;124mDim1\u001b[39m\u001b[38;5;124m'\u001b[39m] \u001b[38;5;241m==\u001b[39m \u001b[38;5;124m'\u001b[39m\u001b[38;5;124mBTSX\u001b[39m\u001b[38;5;124m'\u001b[39m][[\u001b[38;5;124m'\u001b[39m\u001b[38;5;124mcountry_code\u001b[39m\u001b[38;5;124m'\u001b[39m, \u001b[38;5;124m'\u001b[39m\u001b[38;5;124myear\u001b[39m\u001b[38;5;124m'\u001b[39m, ind_text]]\n\u001b[0;32m      6\u001b[0m data01 \u001b[38;5;241m=\u001b[39m remove_duplicates(data01)\n",
      "File \u001b[1;32m~\\Desktop\\Health-Database\\Functions.py:74\u001b[0m, in \u001b[0;36mget_indicator\u001b[1;34m(ind_code, ind_text)\u001b[0m\n\u001b[0;32m     72\u001b[0m DATE_2000S \u001b[38;5;241m=\u001b[39m \u001b[38;5;124m'\u001b[39m\u001b[38;5;124m?$filter=date(TimeDimensionBegin) ge 2000-01-01\u001b[39m\u001b[38;5;124m'\u001b[39m    \n\u001b[0;32m     73\u001b[0m service_url \u001b[38;5;241m=\u001b[39m BASE_URL \u001b[38;5;241m+\u001b[39m ind_code \u001b[38;5;241m+\u001b[39m DATE_2000S\n\u001b[1;32m---> 74\u001b[0m response \u001b[38;5;241m=\u001b[39m \u001b[43mrequests\u001b[49m\u001b[38;5;241m.\u001b[39mget(service_url)\n\u001b[0;32m     76\u001b[0m \u001b[38;5;28;01mif\u001b[39;00m(response\u001b[38;5;241m.\u001b[39mok):\n\u001b[0;32m     77\u001b[0m     data_j \u001b[38;5;241m=\u001b[39m response\u001b[38;5;241m.\u001b[39mjson()\n",
      "\u001b[1;31mNameError\u001b[0m: name 'requests' is not defined"
     ]
    }
   ],
   "source": [
    "\n",
    "ind_code = 'WHOSIS_000001'\n",
    "ind_text = 'life_expect'\n",
    "data_raw = get_indicator(ind_code, ind_text)\n",
    "\n",
    "data01 = data_raw[data_raw['Dim1'] == 'BTSX'][['country_code', 'year', ind_text]]\n",
    "data01 = remove_duplicates(data01)\n",
    "test_dump(data01)"
   ]
  },
  {
   "cell_type": "code",
   "execution_count": null,
   "id": "49f6e7c8",
   "metadata": {},
   "outputs": [],
   "source": []
  }
 ],
 "metadata": {
  "kernelspec": {
   "display_name": "Python 3",
   "language": "python",
   "name": "python3"
  },
  "language_info": {
   "codemirror_mode": {
    "name": "ipython",
    "version": 3
   },
   "file_extension": ".py",
   "mimetype": "text/x-python",
   "name": "python",
   "nbconvert_exporter": "python",
   "pygments_lexer": "ipython3",
   "version": "3.9.12"
  }
 },
 "nbformat": 4,
 "nbformat_minor": 5
}
