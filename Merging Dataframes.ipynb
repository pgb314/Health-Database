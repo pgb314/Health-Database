{
 "cells": [
  {
   "cell_type": "code",
   "execution_count": 1,
   "id": "88e0daea",
   "metadata": {},
   "outputs": [],
   "source": [
    "import numpy as np\n",
    "import pandas as pd\n",
    "import matplotlib.pyplot as plt\n",
    "import seaborn as sns\n",
    "import json\n",
    "import requests\n",
    "import time\n",
    "from Functions import *"
   ]
  },
  {
   "cell_type": "code",
   "execution_count": 2,
   "id": "d4585a98",
   "metadata": {},
   "outputs": [],
   "source": [
    "data = pd.read_csv(r'C:\\Users\\pabli\\Desktop\\Health-Database\\data\\columns.csv')"
   ]
  },
  {
   "cell_type": "code",
   "execution_count": 5,
   "id": "41ea2298",
   "metadata": {},
   "outputs": [],
   "source": [
    "data.rename(columns={\"IndCode\": \"Code\"},inplace=True)"
   ]
  },
  {
   "cell_type": "code",
   "execution_count": 6,
   "id": "42e1cf0a",
   "metadata": {},
   "outputs": [
    {
     "data": {
      "text/html": [
       "<div>\n",
       "<style scoped>\n",
       "    .dataframe tbody tr th:only-of-type {\n",
       "        vertical-align: middle;\n",
       "    }\n",
       "\n",
       "    .dataframe tbody tr th {\n",
       "        vertical-align: top;\n",
       "    }\n",
       "\n",
       "    .dataframe thead th {\n",
       "        text-align: right;\n",
       "    }\n",
       "</style>\n",
       "<table border=\"1\" class=\"dataframe\">\n",
       "  <thead>\n",
       "    <tr style=\"text-align: right;\">\n",
       "      <th></th>\n",
       "      <th>Unnamed: 0</th>\n",
       "      <th>Code</th>\n",
       "      <th>IndName</th>\n",
       "    </tr>\n",
       "  </thead>\n",
       "  <tbody>\n",
       "    <tr>\n",
       "      <th>0</th>\n",
       "      <td>0</td>\n",
       "      <td>AIR_42</td>\n",
       "      <td>Ambient air pollution attributable death rate ...</td>\n",
       "    </tr>\n",
       "    <tr>\n",
       "      <th>1</th>\n",
       "      <td>1</td>\n",
       "      <td>AIR_51</td>\n",
       "      <td>Household air pollution attributable death rat...</td>\n",
       "    </tr>\n",
       "    <tr>\n",
       "      <th>2</th>\n",
       "      <td>2</td>\n",
       "      <td>anc1</td>\n",
       "      <td>Antenatal care coverage - at least one visit (...</td>\n",
       "    </tr>\n",
       "    <tr>\n",
       "      <th>3</th>\n",
       "      <td>3</td>\n",
       "      <td>BP_04</td>\n",
       "      <td>Raised blood pressure (SBP&gt;=140 OR DBP&gt;=90) (a...</td>\n",
       "    </tr>\n",
       "    <tr>\n",
       "      <th>4</th>\n",
       "      <td>4</td>\n",
       "      <td>BP_06</td>\n",
       "      <td>Mean systolic blood pressure (age-standardized...</td>\n",
       "    </tr>\n",
       "    <tr>\n",
       "      <th>...</th>\n",
       "      <td>...</td>\n",
       "      <td>...</td>\n",
       "      <td>...</td>\n",
       "    </tr>\n",
       "    <tr>\n",
       "      <th>75</th>\n",
       "      <td>75</td>\n",
       "      <td>MALARIA_ITN_COVERAGE</td>\n",
       "      <td>Population with access to an insecticide-treat...</td>\n",
       "    </tr>\n",
       "    <tr>\n",
       "      <th>76</th>\n",
       "      <td>76</td>\n",
       "      <td>Adult_curr_cig_smoking</td>\n",
       "      <td>Prevalence of current cigarette smoking among ...</td>\n",
       "    </tr>\n",
       "    <tr>\n",
       "      <th>77</th>\n",
       "      <td>77</td>\n",
       "      <td>MALARIA_EST_MORTALITY</td>\n",
       "      <td>Estimated malaria mortality rate (per 100 000 ...</td>\n",
       "    </tr>\n",
       "    <tr>\n",
       "      <th>78</th>\n",
       "      <td>78</td>\n",
       "      <td>vmsl</td>\n",
       "      <td>Measles immunization coverage among one-year-o...</td>\n",
       "    </tr>\n",
       "    <tr>\n",
       "      <th>79</th>\n",
       "      <td>79</td>\n",
       "      <td>vpolio</td>\n",
       "      <td>Polio immunization coverage among one-year-old...</td>\n",
       "    </tr>\n",
       "  </tbody>\n",
       "</table>\n",
       "<p>80 rows × 3 columns</p>\n",
       "</div>"
      ],
      "text/plain": [
       "    Unnamed: 0                    Code  \\\n",
       "0            0                  AIR_42   \n",
       "1            1                  AIR_51   \n",
       "2            2                    anc1   \n",
       "3            3                   BP_04   \n",
       "4            4                   BP_06   \n",
       "..         ...                     ...   \n",
       "75          75    MALARIA_ITN_COVERAGE   \n",
       "76          76  Adult_curr_cig_smoking   \n",
       "77          77   MALARIA_EST_MORTALITY   \n",
       "78          78                    vmsl   \n",
       "79          79                  vpolio   \n",
       "\n",
       "                                              IndName  \n",
       "0   Ambient air pollution attributable death rate ...  \n",
       "1   Household air pollution attributable death rat...  \n",
       "2   Antenatal care coverage - at least one visit (...  \n",
       "3   Raised blood pressure (SBP>=140 OR DBP>=90) (a...  \n",
       "4   Mean systolic blood pressure (age-standardized...  \n",
       "..                                                ...  \n",
       "75  Population with access to an insecticide-treat...  \n",
       "76  Prevalence of current cigarette smoking among ...  \n",
       "77  Estimated malaria mortality rate (per 100 000 ...  \n",
       "78  Measles immunization coverage among one-year-o...  \n",
       "79  Polio immunization coverage among one-year-old...  \n",
       "\n",
       "[80 rows x 3 columns]"
      ]
     },
     "execution_count": 6,
     "metadata": {},
     "output_type": "execute_result"
    }
   ],
   "source": [
    "data"
   ]
  },
  {
   "cell_type": "code",
   "execution_count": null,
   "id": "d497198c",
   "metadata": {},
   "outputs": [],
   "source": [
    "data.drop(columns = \"Unnamed: 0\", inplace )"
   ]
  },
  {
   "cell_type": "code",
   "execution_count": null,
   "id": "06298d32",
   "metadata": {},
   "outputs": [],
   "source": [
    "for i,e in enumerate(data.IndCode):     \n",
    "    ind_code = e\n",
    "    ind_text = data.IndName[i]\n",
    "    data_raw = get_indicator(ind_code, ind_text)\n",
    "\n",
    "    data01a = data_raw[data_raw['Dim1'] == 'BTSX'][['country_code', 'year', ind_text]]\n",
    "    data01a = remove_duplicates(data01a)\n",
    "    all_ = all_.merge(data01a, how='left',on = ['year','Code'])"
   ]
  }
 ],
 "metadata": {
  "kernelspec": {
   "display_name": "Python 3",
   "language": "python",
   "name": "python3"
  },
  "language_info": {
   "codemirror_mode": {
    "name": "ipython",
    "version": 3
   },
   "file_extension": ".py",
   "mimetype": "text/x-python",
   "name": "python",
   "nbconvert_exporter": "python",
   "pygments_lexer": "ipython3",
   "version": "3.9.12"
  }
 },
 "nbformat": 4,
 "nbformat_minor": 5
}
