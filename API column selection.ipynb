{
 "cells": [
  {
   "cell_type": "code",
   "execution_count": 3,
   "metadata": {},
   "outputs": [],
   "source": [
    "import pandas as pd"
   ]
  },
  {
   "cell_type": "code",
   "execution_count": 4,
   "metadata": {},
   "outputs": [],
   "source": [
    "df = pd.read_json(r'C:\\Users\\pabli\\Desktop\\Indicadores.json')"
   ]
  },
  {
   "cell_type": "code",
   "execution_count": 35,
   "metadata": {},
   "outputs": [
    {
     "data": {
      "text/html": [
       "<div>\n",
       "<style scoped>\n",
       "    .dataframe tbody tr th:only-of-type {\n",
       "        vertical-align: middle;\n",
       "    }\n",
       "\n",
       "    .dataframe tbody tr th {\n",
       "        vertical-align: top;\n",
       "    }\n",
       "\n",
       "    .dataframe thead th {\n",
       "        text-align: right;\n",
       "    }\n",
       "</style>\n",
       "<table border=\"1\" class=\"dataframe\">\n",
       "  <thead>\n",
       "    <tr style=\"text-align: right;\">\n",
       "      <th></th>\n",
       "      <th>@odata.context</th>\n",
       "      <th>value</th>\n",
       "    </tr>\n",
       "  </thead>\n",
       "  <tbody>\n",
       "    <tr>\n",
       "      <th>0</th>\n",
       "      <td>https://ghoapi.azureedge.net/api/$metadata#Ind...</td>\n",
       "      <td>IndicatorCode</td>\n",
       "    </tr>\n",
       "    <tr>\n",
       "      <th>1</th>\n",
       "      <td>https://ghoapi.azureedge.net/api/$metadata#Ind...</td>\n",
       "      <td>IndicatorName</td>\n",
       "    </tr>\n",
       "    <tr>\n",
       "      <th>2</th>\n",
       "      <td>https://ghoapi.azureedge.net/api/$metadata#Ind...</td>\n",
       "      <td>Language</td>\n",
       "    </tr>\n",
       "    <tr>\n",
       "      <th>3</th>\n",
       "      <td>https://ghoapi.azureedge.net/api/$metadata#Ind...</td>\n",
       "      <td>IndicatorCode</td>\n",
       "    </tr>\n",
       "    <tr>\n",
       "      <th>4</th>\n",
       "      <td>https://ghoapi.azureedge.net/api/$metadata#Ind...</td>\n",
       "      <td>IndicatorName</td>\n",
       "    </tr>\n",
       "    <tr>\n",
       "      <th>...</th>\n",
       "      <td>...</td>\n",
       "      <td>...</td>\n",
       "    </tr>\n",
       "    <tr>\n",
       "      <th>6742</th>\n",
       "      <td>https://ghoapi.azureedge.net/api/$metadata#Ind...</td>\n",
       "      <td>IndicatorName</td>\n",
       "    </tr>\n",
       "    <tr>\n",
       "      <th>6743</th>\n",
       "      <td>https://ghoapi.azureedge.net/api/$metadata#Ind...</td>\n",
       "      <td>Language</td>\n",
       "    </tr>\n",
       "    <tr>\n",
       "      <th>6744</th>\n",
       "      <td>https://ghoapi.azureedge.net/api/$metadata#Ind...</td>\n",
       "      <td>IndicatorCode</td>\n",
       "    </tr>\n",
       "    <tr>\n",
       "      <th>6745</th>\n",
       "      <td>https://ghoapi.azureedge.net/api/$metadata#Ind...</td>\n",
       "      <td>IndicatorName</td>\n",
       "    </tr>\n",
       "    <tr>\n",
       "      <th>6746</th>\n",
       "      <td>https://ghoapi.azureedge.net/api/$metadata#Ind...</td>\n",
       "      <td>Language</td>\n",
       "    </tr>\n",
       "  </tbody>\n",
       "</table>\n",
       "<p>6747 rows × 2 columns</p>\n",
       "</div>"
      ],
      "text/plain": [
       "                                         @odata.context          value\n",
       "0     https://ghoapi.azureedge.net/api/$metadata#Ind...  IndicatorCode\n",
       "1     https://ghoapi.azureedge.net/api/$metadata#Ind...  IndicatorName\n",
       "2     https://ghoapi.azureedge.net/api/$metadata#Ind...       Language\n",
       "3     https://ghoapi.azureedge.net/api/$metadata#Ind...  IndicatorCode\n",
       "4     https://ghoapi.azureedge.net/api/$metadata#Ind...  IndicatorName\n",
       "...                                                 ...            ...\n",
       "6742  https://ghoapi.azureedge.net/api/$metadata#Ind...  IndicatorName\n",
       "6743  https://ghoapi.azureedge.net/api/$metadata#Ind...       Language\n",
       "6744  https://ghoapi.azureedge.net/api/$metadata#Ind...  IndicatorCode\n",
       "6745  https://ghoapi.azureedge.net/api/$metadata#Ind...  IndicatorName\n",
       "6746  https://ghoapi.azureedge.net/api/$metadata#Ind...       Language\n",
       "\n",
       "[6747 rows x 2 columns]"
      ]
     },
     "execution_count": 35,
     "metadata": {},
     "output_type": "execute_result"
    }
   ],
   "source": [
    "df.explode('value',ignore_index = True)"
   ]
  },
  {
   "cell_type": "code",
   "execution_count": 36,
   "metadata": {},
   "outputs": [
    {
     "data": {
      "text/plain": [
       "\"Ambient air pollution  attributable DALYs per 100'000 children under 5 years\""
      ]
     },
     "execution_count": 36,
     "metadata": {},
     "output_type": "execute_result"
    }
   ],
   "source": [
    "list(df.value[0].values())[1]\n"
   ]
  },
  {
   "cell_type": "code",
   "execution_count": 5,
   "metadata": {},
   "outputs": [],
   "source": [
    "lst1 = []\n",
    "lst2 = []\n",
    "for i,e in enumerate(df.value):\n",
    "    lst1.append(list(df.value[i].values())[0])\n",
    "    lst2.append(list(df.value[i].values())[1])\n",
    "    \n",
    "    "
   ]
  },
  {
   "cell_type": "code",
   "execution_count": 6,
   "metadata": {},
   "outputs": [
    {
     "data": {
      "text/plain": [
       "2249"
      ]
     },
     "execution_count": 6,
     "metadata": {},
     "output_type": "execute_result"
    }
   ],
   "source": [
    "len(lst2)"
   ]
  },
  {
   "cell_type": "code",
   "execution_count": 7,
   "metadata": {},
   "outputs": [],
   "source": [
    "df[\"IndCode\"]=lst1"
   ]
  },
  {
   "cell_type": "code",
   "execution_count": 8,
   "metadata": {},
   "outputs": [],
   "source": [
    "df[\"IndName\"]=lst2"
   ]
  },
  {
   "cell_type": "code",
   "execution_count": 9,
   "metadata": {},
   "outputs": [],
   "source": [
    "df.drop(columns = [\"@odata.context\",\"value\"],inplace=True)"
   ]
  },
  {
   "cell_type": "code",
   "execution_count": 10,
   "metadata": {},
   "outputs": [
    {
     "data": {
      "text/html": [
       "<div>\n",
       "<style scoped>\n",
       "    .dataframe tbody tr th:only-of-type {\n",
       "        vertical-align: middle;\n",
       "    }\n",
       "\n",
       "    .dataframe tbody tr th {\n",
       "        vertical-align: top;\n",
       "    }\n",
       "\n",
       "    .dataframe thead th {\n",
       "        text-align: right;\n",
       "    }\n",
       "</style>\n",
       "<table border=\"1\" class=\"dataframe\">\n",
       "  <thead>\n",
       "    <tr style=\"text-align: right;\">\n",
       "      <th></th>\n",
       "      <th>IndCode</th>\n",
       "      <th>IndName</th>\n",
       "    </tr>\n",
       "  </thead>\n",
       "  <tbody>\n",
       "    <tr>\n",
       "      <th>0</th>\n",
       "      <td>AIR_10</td>\n",
       "      <td>Ambient air pollution  attributable DALYs per ...</td>\n",
       "    </tr>\n",
       "    <tr>\n",
       "      <th>1</th>\n",
       "      <td>AIR_11</td>\n",
       "      <td>Household air pollution attributable deaths</td>\n",
       "    </tr>\n",
       "    <tr>\n",
       "      <th>2</th>\n",
       "      <td>AIR_12</td>\n",
       "      <td>Household air pollution attributable deaths in...</td>\n",
       "    </tr>\n",
       "    <tr>\n",
       "      <th>3</th>\n",
       "      <td>AIR_15</td>\n",
       "      <td>Household air pollution attributable DALYs</td>\n",
       "    </tr>\n",
       "    <tr>\n",
       "      <th>4</th>\n",
       "      <td>AIR_16</td>\n",
       "      <td>Household air pollution attributable DALYs in ...</td>\n",
       "    </tr>\n",
       "    <tr>\n",
       "      <th>...</th>\n",
       "      <td>...</td>\n",
       "      <td>...</td>\n",
       "    </tr>\n",
       "    <tr>\n",
       "      <th>2244</th>\n",
       "      <td>Adult_daily_e-cig</td>\n",
       "      <td>Prevalence of daily e-cigarette use among adul...</td>\n",
       "    </tr>\n",
       "    <tr>\n",
       "      <th>2245</th>\n",
       "      <td>P_compl_all_sfe</td>\n",
       "      <td>Overall compliance with regulations on smoke-f...</td>\n",
       "    </tr>\n",
       "    <tr>\n",
       "      <th>2246</th>\n",
       "      <td>GASPTICFM</td>\n",
       "      <td>Number of isolates tested for cefixime</td>\n",
       "    </tr>\n",
       "    <tr>\n",
       "      <th>2247</th>\n",
       "      <td>UHCTRANSFATS</td>\n",
       "      <td>Best-practice policy implemented for industria...</td>\n",
       "    </tr>\n",
       "    <tr>\n",
       "      <th>2248</th>\n",
       "      <td>NCD_CCS_urine_strips_gluc_ketone</td>\n",
       "      <td>General availability of urine strips for gluco...</td>\n",
       "    </tr>\n",
       "  </tbody>\n",
       "</table>\n",
       "<p>2249 rows × 2 columns</p>\n",
       "</div>"
      ],
      "text/plain": [
       "                               IndCode  \\\n",
       "0                               AIR_10   \n",
       "1                               AIR_11   \n",
       "2                               AIR_12   \n",
       "3                               AIR_15   \n",
       "4                               AIR_16   \n",
       "...                                ...   \n",
       "2244                 Adult_daily_e-cig   \n",
       "2245                   P_compl_all_sfe   \n",
       "2246                         GASPTICFM   \n",
       "2247                      UHCTRANSFATS   \n",
       "2248  NCD_CCS_urine_strips_gluc_ketone   \n",
       "\n",
       "                                                IndName  \n",
       "0     Ambient air pollution  attributable DALYs per ...  \n",
       "1           Household air pollution attributable deaths  \n",
       "2     Household air pollution attributable deaths in...  \n",
       "3            Household air pollution attributable DALYs  \n",
       "4     Household air pollution attributable DALYs in ...  \n",
       "...                                                 ...  \n",
       "2244  Prevalence of daily e-cigarette use among adul...  \n",
       "2245  Overall compliance with regulations on smoke-f...  \n",
       "2246             Number of isolates tested for cefixime  \n",
       "2247  Best-practice policy implemented for industria...  \n",
       "2248  General availability of urine strips for gluco...  \n",
       "\n",
       "[2249 rows x 2 columns]"
      ]
     },
     "execution_count": 10,
     "metadata": {},
     "output_type": "execute_result"
    }
   ],
   "source": [
    "df"
   ]
  },
  {
   "cell_type": "code",
   "execution_count": 21,
   "metadata": {},
   "outputs": [],
   "source": [
    "lst3 = []\n",
    "for e,i in enumerate(df.IndName):\n",
    "    if \"umidity\" in i:\n",
    "        lst3.append(df.IndCode[e])\n",
    "    \n",
    "        \n",
    "        "
   ]
  },
  {
   "cell_type": "code",
   "execution_count": 22,
   "metadata": {},
   "outputs": [
    {
     "data": {
      "text/plain": [
       "[]"
      ]
     },
     "execution_count": 22,
     "metadata": {},
     "output_type": "execute_result"
    }
   ],
   "source": [
    "lst3"
   ]
  },
  {
   "cell_type": "code",
   "execution_count": 19,
   "metadata": {},
   "outputs": [],
   "source": [
    "lst4=[]\n",
    "for i in lst3:\n",
    "    lst4.append(list(df[df.IndCode==i].IndName)[0])"
   ]
  },
  {
   "cell_type": "code",
   "execution_count": 20,
   "metadata": {},
   "outputs": [
    {
     "data": {
      "text/plain": [
       "['Climate change attributable deaths',\n",
       " \"Climate change attributable DALYs ('000)\",\n",
       " \"Climate change attributable deaths per 100'000 capita\",\n",
       " \"Climate change attributable DALYs per 100'000 capita\",\n",
       " \"Climate change attributable deaths ('000) in children under 5 years\",\n",
       " \"Climate change  attributable deaths per 100'000 children under 5 years\",\n",
       " \"Climate change attributable DALYs ('000) in children under 5 years\",\n",
       " \"Climate change  attributable DALYs per 100'000 children under 5 years\"]"
      ]
     },
     "execution_count": 20,
     "metadata": {},
     "output_type": "execute_result"
    }
   ],
   "source": [
    "lst4"
   ]
  },
  {
   "cell_type": "code",
   "execution_count": 348,
   "metadata": {},
   "outputs": [],
   "source": [
    "cancer =['Age-standardized death rates, breast cancer, per 100,000','Age-standardized death rates, colon and rectum cancers, per 100,000','Age-standardized death rates, liver cancer, per 100,000','Age-standardized death rates, mouth and oropharynx cancer, per 100,000','Age-standardized death rates, oesophagus cancer, per 100,000']"
   ]
  },
  {
   "cell_type": "code",
   "execution_count": 349,
   "metadata": {},
   "outputs": [],
   "source": [
    "smoking=['Estimate of current cigarette smoking prevalence (%)','Affordability - percentage of GDP per capita required to purchase 2000 cigarettes of the most sold brand','Average - taxes as a % of cigarette price - other taxes','Prevalence of current cigarette smoking among adolescents (%)','Prevalence of current cigarette smoking among adults (%)','Estimate of current tobacco use prevalence (%)']"
   ]
  },
  {
   "cell_type": "code",
   "execution_count": 350,
   "metadata": {},
   "outputs": [],
   "source": [
    "obesity = ['Prevalence of obesity among adults, BMI &GreaterEqual; 30 (age-standardized estimate) (%)','Prevalence of obesity among children and adolescents, BMI > +2 standard deviations above the median (crude estimate) (%)','Raised blood pressure (SBP>=140 OR DBP>=90) (age-standardized estimate)','Mean systolic blood pressure (age-standardized estimate)','Mean BMI (kg/m²) (age-standardized estimate)','Prevalence of overweight among adults, BMI &GreaterEqual; 25 (age-standardized estimate) (%)','Prevalence of insufficient physical activity among adults aged 18+ years (age-standardized estimate) (%)']"
   ]
  },
  {
   "cell_type": "code",
   "execution_count": 351,
   "metadata": {},
   "outputs": [],
   "source": [
    "mental= ['Age-standardized suicide rates (per 100 000 population)','Beds for mental health in general hospitals (per 100,000)','Government expenditures on mental health as a percentage of total government expenditures on health (%)']"
   ]
  },
  {
   "cell_type": "code",
   "execution_count": 352,
   "metadata": {},
   "outputs": [],
   "source": [
    "alcohol = ['Attribution of road traffic deaths to alcohol (%)','Age-standardized death rates, alcohol and drug use disorders, per 100 000','Alcohol, recorded per capita (15+) consumption (in litres of pure alcohol)','Age-standardized death rates (15+ years), alcoholic liver disease, per 100,000','15-19 years old total alcohol consumption in litres of pure alcohol','15-years old any alcoholic beverage consumed in past 12 months, (%)','Point prevalence (%), alcohol use disorders, 15+ years','Alcohol, recorded per capita (15+) consumption (in litres of pure alcohol), three-year average with 95%CI']"
   ]
  },
  {
   "cell_type": "code",
   "execution_count": 353,
   "metadata": {},
   "outputs": [],
   "source": [
    "natal = [\"Number of infant deaths\",'Antenatal care coverage - at least one visit (in the two or three years preceding the survey) (%','Number of neonatal deaths','Neonatal mortality rate (per 1000 live births)','Maternal mortality ratio (per 100 000 live births)']"
   ]
  },
  {
   "cell_type": "code",
   "execution_count": 354,
   "metadata": {},
   "outputs": [],
   "source": [
    "dev = ['Human development index rank','Children aged 36-59 months who are developmentally on track in at least three of the following domains: literacy-numeracy, physical development, social-emotional development and learning (%)','Poverty headcount ratio at $1.25 a day (PPP) (% of population)']"
   ]
  },
  {
   "cell_type": "code",
   "execution_count": 355,
   "metadata": {},
   "outputs": [],
   "source": [
    "pollution = ['Household air pollution attributable death rate (per 100 000 population)','Ambient air pollution attributable death rate (per 100 000 population, age-standardized)']"
   ]
  },
  {
   "cell_type": "code",
   "execution_count": 356,
   "metadata": {},
   "outputs": [],
   "source": [
    "hiv = ['Prevalence of HIV among adults aged 15 to 49 (%)','Deaths due to HIV/AIDS (per 100 000 population)','Population aged 15-24 years with comprehensive correct knowledge of HIV/AIDS (%)']"
   ]
  },
  {
   "cell_type": "code",
   "execution_count": 357,
   "metadata": {},
   "outputs": [],
   "source": [
    "violence = ['Non-partner sexual violence prevalence (%)','Intimate partner violence prevalence among ever partnered women (%)','Age-standardized death rates, violence, per 100,000','Estimated direct deaths from major conflicts (per 100 000 population)']"
   ]
  },
  {
   "cell_type": "code",
   "execution_count": 358,
   "metadata": {},
   "outputs": [],
   "source": [
    "key = ['Population','Income level','Number of deaths']\n"
   ]
  },
  {
   "cell_type": "code",
   "execution_count": 359,
   "metadata": {},
   "outputs": [],
   "source": [
    "car = ['Number of registered vehicles','Estimated road traffic death rate (per 100 000 population)','Attribution of road traffic deaths to alcohol (%)','Alcohol-related road traffic crashes, per 100,000 population','Seat-belt wearing rate (%)']"
   ]
  },
  {
   "cell_type": "code",
   "execution_count": 360,
   "metadata": {},
   "outputs": [],
   "source": [
    "drugs = ['Point prevalence (%), drug use disorders, 15+ years','Prevention programmes for specific populations for drugs','Prevention programmes for drugs','Treatment programmes for children and adolescents with drug use disorders']"
   ]
  },
  {
   "cell_type": "code",
   "execution_count": 361,
   "metadata": {},
   "outputs": [],
   "source": [
    "medical = ['Median availability of selected generic medicines (%) - Public','Median consumer price ratio of selected generic medicines - Private','Total density per 100 000 population: District/rural hospitals', 'Total density per 100 000 population: Provincial hospitals','Total density per 100 000 population: Specialized hospitals','Current health expenditure (CHE) as percentage of gross domestic product (GDP) (%)']"
   ]
  },
  {
   "cell_type": "code",
   "execution_count": 362,
   "metadata": {},
   "outputs": [],
   "source": [
    "polmenmea = ['Number of suspected meningitis cases reported','Polio immunization coverage among one-year-olds (%)','Poliomyelitis - number of reported cases','Measles - number of reported cases','Measles-containing-vaccine second-dose (MCV2) immunization coverage by the nationally recommended age (%)','Measles immunization coverage among one-year-olds (%)']"
   ]
  },
  {
   "cell_type": "code",
   "execution_count": 363,
   "metadata": {},
   "outputs": [],
   "source": [
    "malaria = ['Deaths due to malaria (per 100 000 population)','Population with access to an insecticide-treated bed net (ITN) for malaria protection (%), modelled','Estimated malaria mortality rate (per 100 000 population)']"
   ]
  },
  {
   "cell_type": "code",
   "execution_count": 364,
   "metadata": {},
   "outputs": [],
   "source": [
    "tuber = ['Deaths due to tuberculosis among HIV-negative people (per 100 000 population)','Incidence of tuberculosis (per 100 000 population per year)']"
   ]
  },
  {
   "cell_type": "code",
   "execution_count": 365,
   "metadata": {},
   "outputs": [],
   "source": [
    "heart = ['Probability (%) of dying between age 30 and exact age 70 from any of cardiovascular disease, cancer, diabetes, or chronic respiratory disease','Age-standardized death rates, ischaemic heart disease, per 100,000']"
   ]
  },
  {
   "cell_type": "code",
   "execution_count": 366,
   "metadata": {},
   "outputs": [],
   "source": [
    "demen = ['Total dementia hospital admissions (per 100,000)']"
   ]
  },
  {
   "cell_type": "code",
   "execution_count": 367,
   "metadata": {},
   "outputs": [],
   "source": [
    "all_ = cancer + demen + heart + tuber + malaria + polmenmea + medical + drugs + car + key + violence + hiv + pollution + dev + natal + alcohol + obesity + smoking\n"
   ]
  },
  {
   "cell_type": "code",
   "execution_count": 368,
   "metadata": {},
   "outputs": [
    {
     "data": {
      "text/plain": [
       "75"
      ]
     },
     "execution_count": 368,
     "metadata": {},
     "output_type": "execute_result"
    }
   ],
   "source": [
    "len(all_)"
   ]
  },
  {
   "cell_type": "code",
   "execution_count": 369,
   "metadata": {},
   "outputs": [],
   "source": [
    "all_ = set(all_)"
   ]
  },
  {
   "cell_type": "code",
   "execution_count": 370,
   "metadata": {},
   "outputs": [
    {
     "data": {
      "text/plain": [
       "74"
      ]
     },
     "execution_count": 370,
     "metadata": {},
     "output_type": "execute_result"
    }
   ],
   "source": [
    "len(all_)"
   ]
  },
  {
   "cell_type": "code",
   "execution_count": 371,
   "metadata": {},
   "outputs": [
    {
     "data": {
      "text/plain": [
       "{'15-19 years old total alcohol consumption in litres of pure alcohol',\n",
       " '15-years old any alcoholic beverage consumed in past 12 months, (%)',\n",
       " 'Affordability - percentage of GDP per capita required to purchase 2000 cigarettes of the most sold brand',\n",
       " 'Age-standardized death rates (15+ years), alcoholic liver disease, per 100,000',\n",
       " 'Age-standardized death rates, alcohol and drug use disorders, per 100 000',\n",
       " 'Age-standardized death rates, breast cancer, per 100,000',\n",
       " 'Age-standardized death rates, colon and rectum cancers, per 100,000',\n",
       " 'Age-standardized death rates, ischaemic heart disease, per 100,000',\n",
       " 'Age-standardized death rates, liver cancer, per 100,000',\n",
       " 'Age-standardized death rates, mouth and oropharynx cancer, per 100,000',\n",
       " 'Age-standardized death rates, oesophagus cancer, per 100,000',\n",
       " 'Age-standardized death rates, violence, per 100,000',\n",
       " 'Alcohol, recorded per capita (15+) consumption (in litres of pure alcohol)',\n",
       " 'Alcohol, recorded per capita (15+) consumption (in litres of pure alcohol), three-year average with 95%CI',\n",
       " 'Alcohol-related road traffic crashes, per 100,000 population',\n",
       " 'Ambient air pollution attributable death rate (per 100 000 population, age-standardized)',\n",
       " 'Antenatal care coverage - at least one visit (in the two or three years preceding the survey) (%',\n",
       " 'Attribution of road traffic deaths to alcohol (%)',\n",
       " 'Average - taxes as a % of cigarette price - other taxes',\n",
       " 'Children aged 36-59 months who are developmentally on track in at least three of the following domains: literacy-numeracy, physical development, social-emotional development and learning (%)',\n",
       " 'Current health expenditure (CHE) as percentage of gross domestic product (GDP) (%)',\n",
       " 'Deaths due to HIV/AIDS (per 100 000 population)',\n",
       " 'Deaths due to malaria (per 100 000 population)',\n",
       " 'Deaths due to tuberculosis among HIV-negative people (per 100 000 population)',\n",
       " 'Estimate of current cigarette smoking prevalence (%)',\n",
       " 'Estimate of current tobacco use prevalence (%)',\n",
       " 'Estimated direct deaths from major conflicts (per 100 000 population)',\n",
       " 'Estimated malaria mortality rate (per 100 000 population)',\n",
       " 'Estimated road traffic death rate (per 100 000 population)',\n",
       " 'Household air pollution attributable death rate (per 100 000 population)',\n",
       " 'Human development index rank',\n",
       " 'Incidence of tuberculosis (per 100 000 population per year)',\n",
       " 'Income level',\n",
       " 'Intimate partner violence prevalence among ever partnered women (%)',\n",
       " 'Maternal mortality ratio (per 100 000 live births)',\n",
       " 'Mean BMI (kg/m²) (age-standardized estimate)',\n",
       " 'Mean systolic blood pressure (age-standardized estimate)',\n",
       " 'Measles - number of reported cases',\n",
       " 'Measles immunization coverage among one-year-olds (%)',\n",
       " 'Measles-containing-vaccine second-dose (MCV2) immunization coverage by the nationally recommended age (%)',\n",
       " 'Median availability of selected generic medicines (%) - Public',\n",
       " 'Median consumer price ratio of selected generic medicines - Private',\n",
       " 'Neonatal mortality rate (per 1000 live births)',\n",
       " 'Non-partner sexual violence prevalence (%)',\n",
       " 'Number of deaths',\n",
       " 'Number of infant deaths',\n",
       " 'Number of neonatal deaths',\n",
       " 'Number of registered vehicles',\n",
       " 'Number of suspected meningitis cases reported',\n",
       " 'Point prevalence (%), alcohol use disorders, 15+ years',\n",
       " 'Point prevalence (%), drug use disorders, 15+ years',\n",
       " 'Polio immunization coverage among one-year-olds (%)',\n",
       " 'Poliomyelitis - number of reported cases',\n",
       " 'Population',\n",
       " 'Population aged 15-24 years with comprehensive correct knowledge of HIV/AIDS (%)',\n",
       " 'Population with access to an insecticide-treated bed net (ITN) for malaria protection (%), modelled',\n",
       " 'Poverty headcount ratio at $1.25 a day (PPP) (% of population)',\n",
       " 'Prevalence of HIV among adults aged 15 to 49 (%)',\n",
       " 'Prevalence of current cigarette smoking among adolescents (%)',\n",
       " 'Prevalence of current cigarette smoking among adults (%)',\n",
       " 'Prevalence of insufficient physical activity among adults aged 18+ years (age-standardized estimate) (%)',\n",
       " 'Prevalence of obesity among adults, BMI &GreaterEqual; 30 (age-standardized estimate) (%)',\n",
       " 'Prevalence of obesity among children and adolescents, BMI > +2 standard deviations above the median (crude estimate) (%)',\n",
       " 'Prevalence of overweight among adults, BMI &GreaterEqual; 25 (age-standardized estimate) (%)',\n",
       " 'Prevention programmes for drugs',\n",
       " 'Prevention programmes for specific populations for drugs',\n",
       " 'Probability (%) of dying between age 30 and exact age 70 from any of cardiovascular disease, cancer, diabetes, or chronic respiratory disease',\n",
       " 'Raised blood pressure (SBP>=140 OR DBP>=90) (age-standardized estimate)',\n",
       " 'Seat-belt wearing rate (%)',\n",
       " 'Total dementia hospital admissions (per 100,000)',\n",
       " 'Total density per 100 000 population: District/rural hospitals',\n",
       " 'Total density per 100 000 population: Provincial hospitals',\n",
       " 'Total density per 100 000 population: Specialized hospitals',\n",
       " 'Treatment programmes for children and adolescents with drug use disorders'}"
      ]
     },
     "execution_count": 371,
     "metadata": {},
     "output_type": "execute_result"
    }
   ],
   "source": [
    "all_"
   ]
  },
  {
   "cell_type": "code",
   "execution_count": 381,
   "metadata": {},
   "outputs": [],
   "source": [
    "all_=list(all_)"
   ]
  },
  {
   "cell_type": "code",
   "execution_count": 383,
   "metadata": {},
   "outputs": [
    {
     "data": {
      "text/plain": [
       "list"
      ]
     },
     "execution_count": 383,
     "metadata": {},
     "output_type": "execute_result"
    }
   ],
   "source": [
    "type(all_)"
   ]
  },
  {
   "cell_type": "code",
   "execution_count": 392,
   "metadata": {},
   "outputs": [],
   "source": [
    "list5 = []\n",
    "for i,e in enumerate(df.IndName):\n",
    "    if e in all_:\n",
    "        list5.append(i)\n",
    "        "
   ]
  },
  {
   "cell_type": "code",
   "execution_count": 393,
   "metadata": {},
   "outputs": [
    {
     "data": {
      "text/plain": [
       "80"
      ]
     },
     "execution_count": 393,
     "metadata": {},
     "output_type": "execute_result"
    }
   ],
   "source": [
    "len(list5)"
   ]
  },
  {
   "cell_type": "code",
   "execution_count": 397,
   "metadata": {},
   "outputs": [
    {
     "data": {
      "text/plain": [
       "int"
      ]
     },
     "execution_count": 397,
     "metadata": {},
     "output_type": "execute_result"
    }
   ],
   "source": [
    "type(list5[0])"
   ]
  },
  {
   "cell_type": "code",
   "execution_count": 400,
   "metadata": {},
   "outputs": [],
   "source": [
    "df1 = df.iloc[list5]"
   ]
  },
  {
   "cell_type": "code",
   "execution_count": 404,
   "metadata": {},
   "outputs": [],
   "source": [
    "df1.reset_index(inplace = True)"
   ]
  },
  {
   "cell_type": "code",
   "execution_count": 405,
   "metadata": {},
   "outputs": [
    {
     "data": {
      "text/html": [
       "<div>\n",
       "<style scoped>\n",
       "    .dataframe tbody tr th:only-of-type {\n",
       "        vertical-align: middle;\n",
       "    }\n",
       "\n",
       "    .dataframe tbody tr th {\n",
       "        vertical-align: top;\n",
       "    }\n",
       "\n",
       "    .dataframe thead th {\n",
       "        text-align: right;\n",
       "    }\n",
       "</style>\n",
       "<table border=\"1\" class=\"dataframe\">\n",
       "  <thead>\n",
       "    <tr style=\"text-align: right;\">\n",
       "      <th></th>\n",
       "      <th>index</th>\n",
       "      <th>IndCode</th>\n",
       "      <th>IndName</th>\n",
       "    </tr>\n",
       "  </thead>\n",
       "  <tbody>\n",
       "    <tr>\n",
       "      <th>0</th>\n",
       "      <td>9</td>\n",
       "      <td>AIR_42</td>\n",
       "      <td>Ambient air pollution attributable death rate ...</td>\n",
       "    </tr>\n",
       "    <tr>\n",
       "      <th>1</th>\n",
       "      <td>15</td>\n",
       "      <td>AIR_51</td>\n",
       "      <td>Household air pollution attributable death rat...</td>\n",
       "    </tr>\n",
       "    <tr>\n",
       "      <th>2</th>\n",
       "      <td>34</td>\n",
       "      <td>anc1</td>\n",
       "      <td>Antenatal care coverage - at least one visit (...</td>\n",
       "    </tr>\n",
       "    <tr>\n",
       "      <th>3</th>\n",
       "      <td>41</td>\n",
       "      <td>BP_04</td>\n",
       "      <td>Raised blood pressure (SBP&gt;=140 OR DBP&gt;=90) (a...</td>\n",
       "    </tr>\n",
       "    <tr>\n",
       "      <th>4</th>\n",
       "      <td>43</td>\n",
       "      <td>BP_06</td>\n",
       "      <td>Mean systolic blood pressure (age-standardized...</td>\n",
       "    </tr>\n",
       "    <tr>\n",
       "      <th>...</th>\n",
       "      <td>...</td>\n",
       "      <td>...</td>\n",
       "      <td>...</td>\n",
       "    </tr>\n",
       "    <tr>\n",
       "      <th>75</th>\n",
       "      <td>1934</td>\n",
       "      <td>MALARIA_ITN_COVERAGE</td>\n",
       "      <td>Population with access to an insecticide-treat...</td>\n",
       "    </tr>\n",
       "    <tr>\n",
       "      <th>76</th>\n",
       "      <td>2097</td>\n",
       "      <td>Adult_curr_cig_smoking</td>\n",
       "      <td>Prevalence of current cigarette smoking among ...</td>\n",
       "    </tr>\n",
       "    <tr>\n",
       "      <th>77</th>\n",
       "      <td>2165</td>\n",
       "      <td>MALARIA_EST_MORTALITY</td>\n",
       "      <td>Estimated malaria mortality rate (per 100 000 ...</td>\n",
       "    </tr>\n",
       "    <tr>\n",
       "      <th>78</th>\n",
       "      <td>2184</td>\n",
       "      <td>vmsl</td>\n",
       "      <td>Measles immunization coverage among one-year-o...</td>\n",
       "    </tr>\n",
       "    <tr>\n",
       "      <th>79</th>\n",
       "      <td>2221</td>\n",
       "      <td>vpolio</td>\n",
       "      <td>Polio immunization coverage among one-year-old...</td>\n",
       "    </tr>\n",
       "  </tbody>\n",
       "</table>\n",
       "<p>80 rows × 3 columns</p>\n",
       "</div>"
      ],
      "text/plain": [
       "    index                 IndCode  \\\n",
       "0       9                  AIR_42   \n",
       "1      15                  AIR_51   \n",
       "2      34                    anc1   \n",
       "3      41                   BP_04   \n",
       "4      43                   BP_06   \n",
       "..    ...                     ...   \n",
       "75   1934    MALARIA_ITN_COVERAGE   \n",
       "76   2097  Adult_curr_cig_smoking   \n",
       "77   2165   MALARIA_EST_MORTALITY   \n",
       "78   2184                    vmsl   \n",
       "79   2221                  vpolio   \n",
       "\n",
       "                                              IndName  \n",
       "0   Ambient air pollution attributable death rate ...  \n",
       "1   Household air pollution attributable death rat...  \n",
       "2   Antenatal care coverage - at least one visit (...  \n",
       "3   Raised blood pressure (SBP>=140 OR DBP>=90) (a...  \n",
       "4   Mean systolic blood pressure (age-standardized...  \n",
       "..                                                ...  \n",
       "75  Population with access to an insecticide-treat...  \n",
       "76  Prevalence of current cigarette smoking among ...  \n",
       "77  Estimated malaria mortality rate (per 100 000 ...  \n",
       "78  Measles immunization coverage among one-year-o...  \n",
       "79  Polio immunization coverage among one-year-old...  \n",
       "\n",
       "[80 rows x 3 columns]"
      ]
     },
     "execution_count": 405,
     "metadata": {},
     "output_type": "execute_result"
    }
   ],
   "source": [
    "df1"
   ]
  },
  {
   "cell_type": "code",
   "execution_count": 407,
   "metadata": {},
   "outputs": [
    {
     "name": "stderr",
     "output_type": "stream",
     "text": [
      "C:\\Users\\pabli\\AppData\\Local\\Temp\\ipykernel_14884\\1567907233.py:1: SettingWithCopyWarning: \n",
      "A value is trying to be set on a copy of a slice from a DataFrame\n",
      "\n",
      "See the caveats in the documentation: https://pandas.pydata.org/pandas-docs/stable/user_guide/indexing.html#returning-a-view-versus-a-copy\n",
      "  df1.drop(columns = \"index\", inplace = True)\n"
     ]
    }
   ],
   "source": [
    "df1.drop(columns = \"index\", inplace = True)"
   ]
  },
  {
   "cell_type": "code",
   "execution_count": 408,
   "metadata": {},
   "outputs": [
    {
     "data": {
      "text/html": [
       "<div>\n",
       "<style scoped>\n",
       "    .dataframe tbody tr th:only-of-type {\n",
       "        vertical-align: middle;\n",
       "    }\n",
       "\n",
       "    .dataframe tbody tr th {\n",
       "        vertical-align: top;\n",
       "    }\n",
       "\n",
       "    .dataframe thead th {\n",
       "        text-align: right;\n",
       "    }\n",
       "</style>\n",
       "<table border=\"1\" class=\"dataframe\">\n",
       "  <thead>\n",
       "    <tr style=\"text-align: right;\">\n",
       "      <th></th>\n",
       "      <th>IndCode</th>\n",
       "      <th>IndName</th>\n",
       "    </tr>\n",
       "  </thead>\n",
       "  <tbody>\n",
       "    <tr>\n",
       "      <th>0</th>\n",
       "      <td>AIR_42</td>\n",
       "      <td>Ambient air pollution attributable death rate ...</td>\n",
       "    </tr>\n",
       "    <tr>\n",
       "      <th>1</th>\n",
       "      <td>AIR_51</td>\n",
       "      <td>Household air pollution attributable death rat...</td>\n",
       "    </tr>\n",
       "    <tr>\n",
       "      <th>2</th>\n",
       "      <td>anc1</td>\n",
       "      <td>Antenatal care coverage - at least one visit (...</td>\n",
       "    </tr>\n",
       "    <tr>\n",
       "      <th>3</th>\n",
       "      <td>BP_04</td>\n",
       "      <td>Raised blood pressure (SBP&gt;=140 OR DBP&gt;=90) (a...</td>\n",
       "    </tr>\n",
       "    <tr>\n",
       "      <th>4</th>\n",
       "      <td>BP_06</td>\n",
       "      <td>Mean systolic blood pressure (age-standardized...</td>\n",
       "    </tr>\n",
       "    <tr>\n",
       "      <th>...</th>\n",
       "      <td>...</td>\n",
       "      <td>...</td>\n",
       "    </tr>\n",
       "    <tr>\n",
       "      <th>75</th>\n",
       "      <td>MALARIA_ITN_COVERAGE</td>\n",
       "      <td>Population with access to an insecticide-treat...</td>\n",
       "    </tr>\n",
       "    <tr>\n",
       "      <th>76</th>\n",
       "      <td>Adult_curr_cig_smoking</td>\n",
       "      <td>Prevalence of current cigarette smoking among ...</td>\n",
       "    </tr>\n",
       "    <tr>\n",
       "      <th>77</th>\n",
       "      <td>MALARIA_EST_MORTALITY</td>\n",
       "      <td>Estimated malaria mortality rate (per 100 000 ...</td>\n",
       "    </tr>\n",
       "    <tr>\n",
       "      <th>78</th>\n",
       "      <td>vmsl</td>\n",
       "      <td>Measles immunization coverage among one-year-o...</td>\n",
       "    </tr>\n",
       "    <tr>\n",
       "      <th>79</th>\n",
       "      <td>vpolio</td>\n",
       "      <td>Polio immunization coverage among one-year-old...</td>\n",
       "    </tr>\n",
       "  </tbody>\n",
       "</table>\n",
       "<p>80 rows × 2 columns</p>\n",
       "</div>"
      ],
      "text/plain": [
       "                   IndCode                                            IndName\n",
       "0                   AIR_42  Ambient air pollution attributable death rate ...\n",
       "1                   AIR_51  Household air pollution attributable death rat...\n",
       "2                     anc1  Antenatal care coverage - at least one visit (...\n",
       "3                    BP_04  Raised blood pressure (SBP>=140 OR DBP>=90) (a...\n",
       "4                    BP_06  Mean systolic blood pressure (age-standardized...\n",
       "..                     ...                                                ...\n",
       "75    MALARIA_ITN_COVERAGE  Population with access to an insecticide-treat...\n",
       "76  Adult_curr_cig_smoking  Prevalence of current cigarette smoking among ...\n",
       "77   MALARIA_EST_MORTALITY  Estimated malaria mortality rate (per 100 000 ...\n",
       "78                    vmsl  Measles immunization coverage among one-year-o...\n",
       "79                  vpolio  Polio immunization coverage among one-year-old...\n",
       "\n",
       "[80 rows x 2 columns]"
      ]
     },
     "execution_count": 408,
     "metadata": {},
     "output_type": "execute_result"
    }
   ],
   "source": [
    "df1"
   ]
  },
  {
   "cell_type": "code",
   "execution_count": null,
   "metadata": {},
   "outputs": [],
   "source": [
    "df1.to_csv()"
   ]
  }
 ],
 "metadata": {
  "kernelspec": {
   "display_name": "Python 3",
   "language": "python",
   "name": "python3"
  },
  "language_info": {
   "codemirror_mode": {
    "name": "ipython",
    "version": 3
   },
   "file_extension": ".py",
   "mimetype": "text/x-python",
   "name": "python",
   "nbconvert_exporter": "python",
   "pygments_lexer": "ipython3",
   "version": "3.9.12"
  },
  "vscode": {
   "interpreter": {
    "hash": "fab4cb8e27f7f072915c9b5f907aaaf099fc3ca3f71cc9edcddf68271c91df93"
   }
  }
 },
 "nbformat": 4,
 "nbformat_minor": 2
}
